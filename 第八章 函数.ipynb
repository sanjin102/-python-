{
 "cells": [
  {
   "cell_type": "markdown",
   "metadata": {},
   "source": [
    "函数是带名字的代码块，用于完成具体的工作。   \n",
    "要执行函数定义的特定任务，可调用该函数。   \n",
    "需要在程序中多次执行同一项任务时，你无需反复编写完成该任务的代码，而只需调用执行该任务的函数"
   ]
  },
  {
   "cell_type": "markdown",
   "metadata": {},
   "source": [
    "## 8.1 定义函数\n",
    "\n",
    "下面是一个打印问候语的简单函数，名为greet_user()   \n",
    "使用关键字def来告诉Python你要定义一个函数。指出了函数名，还可能在括号内指出函数为完成其任务需要什么样的信息。   \n",
    "在这里，函数名为greet_user()，它不需要任何信息就能完成其工作   \n",
    "\n",
    "greet_user()只做一项工作：打印Hello!。   \n",
    "要调用函数，可依次指定函数名以及用括号括起的必要信息"
   ]
  },
  {
   "cell_type": "code",
   "execution_count": 2,
   "metadata": {},
   "outputs": [
    {
     "name": "stdout",
     "output_type": "stream",
     "text": [
      "Hello!\n"
     ]
    }
   ],
   "source": [
    "def greet_user(): \n",
    "    \"\"\"显示简单的问候语\"\"\"   #\"\"\"  \"\"\"是文档字符串（docstring）的注释，描述了函数是做什么的\n",
    "    print(\"Hello!\") \n",
    " \n",
    "greet_user() "
   ]
  },
  {
   "cell_type": "markdown",
   "metadata": {},
   "source": [
    "## 8.1.1 向函数传递信息\n",
    "在函数定义def greet_user()的括号内添加username。通过在这里添加username，就可让函数接受你给username指定的任何值。   \n",
    "调用greet_user()时，可将一个名字传递给它，如下所示："
   ]
  },
  {
   "cell_type": "code",
   "execution_count": 3,
   "metadata": {},
   "outputs": [
    {
     "name": "stdout",
     "output_type": "stream",
     "text": [
      "Hello, Jesse!\n"
     ]
    }
   ],
   "source": [
    "def greet_user(username): \n",
    "    \"\"\"显示简单的问候语\"\"\"\n",
    "    print(\"Hello, \" + username.title() + \"!\") \n",
    " \n",
    "greet_user('jesse') "
   ]
  },
  {
   "cell_type": "markdown",
   "metadata": {},
   "source": [
    "## 8.1.2 实参和形参\n",
    "在函数greet_user()的定义中，变量username是一个形参——函数完成其工作所需的一项信息。   \n",
    "在代码greet_user('jesse')中，值'jesse'是一个实参。实参是调用函数时传递给函数的信息。   \n",
    "在greet_user('jesse')中，将实参'jesse'传递给了函数greet_user()，这个值被存储在形参username中"
   ]
  },
  {
   "cell_type": "markdown",
   "metadata": {},
   "source": [
    "## 8.2 传递实参\n",
    "向函数传递实参的方式很多，  \n",
    "可使用位置实参，这要求实参的顺序与形参的顺序相同；   \n",
    "也可使用关键字实参，其中每个实参都由变量名和值组成；    \n",
    "还可使用列表和字典。"
   ]
  },
  {
   "cell_type": "markdown",
   "metadata": {},
   "source": [
    "## 8.2.1 位置实参\n",
    "调用函数时，Python将每个实参都关联到函数定义中的一个形参。为此，最简单的关联方式是基于实参的顺序。   \n",
    "这种关联方式被称为位置实参，位置实参的顺序很重要\n",
    " \n",
    "输出宠物属于哪种动物，以及它叫什么名字"
   ]
  },
  {
   "cell_type": "code",
   "execution_count": 5,
   "metadata": {},
   "outputs": [
    {
     "name": "stdout",
     "output_type": "stream",
     "text": [
      "\n",
      "I have a hamster.\n",
      "My hamster's name is Harry.\n",
      "\n",
      "I have a dog.\n",
      "My dog's name is Willie.\n"
     ]
    }
   ],
   "source": [
    "def describe_pet(animal_type, pet_name): \n",
    "    \"\"\"显示宠物的信息\"\"\" \n",
    "    print(\"\\nI have a \" + animal_type + \".\") \n",
    "    print(\"My \" + animal_type + \"'s name is \" + pet_name.title() + \".\") \n",
    " \n",
    "describe_pet('hamster', 'harry')  ###\n",
    "describe_pet('dog', 'willie') "
   ]
  },
  {
   "cell_type": "markdown",
   "metadata": {},
   "source": [
    "## 8.2.2 关键字实参\n",
    "传递给函数的名称—值对。你直接在实参中将名称和值关联起来了，因此向函数传递实参时不会混淆，不用考虑位置实参中的顺序"
   ]
  },
  {
   "cell_type": "code",
   "execution_count": 6,
   "metadata": {},
   "outputs": [
    {
     "name": "stdout",
     "output_type": "stream",
     "text": [
      "\n",
      "I have a hamster.\n",
      "My hamster's name is Harry.\n",
      "\n",
      "I have a hamster.\n",
      "My hamster's name is Harry.\n"
     ]
    }
   ],
   "source": [
    "describe_pet(animal_type='hamster', pet_name='harry') #二者是等效的\n",
    "describe_pet(pet_name='harry', animal_type='hamster') "
   ]
  },
  {
   "cell_type": "markdown",
   "metadata": {},
   "source": [
    "## 8.2.3 默认值  \n",
    "编写函数时，可给每个形参指定默认值。在调用函数中给形参提供了实参时，Python将使用指定的实参值；否则，将使用形参的默认值。   \n",
    "\n",
    "！！！请注意，在这个函数的定义中，修改了形参的排列顺序。由于给animal_type指定了默认值，无需通过实参来指定动物类型，   \n",
    "因此在函数调用中只包含一个实参——宠物的名字。   \n",
    "然而，Python依然将这个实参视为——位置实参，     \n",
    "因此如果函数调用中只包含宠物的名字，这个实参将关联到函数定义中的第一个形参。这就是需要将pet_name放在形参列表开头的原因所在。"
   ]
  },
  {
   "cell_type": "code",
   "execution_count": 10,
   "metadata": {},
   "outputs": [
    {
     "name": "stdout",
     "output_type": "stream",
     "text": [
      "\n",
      "I have a dog.\n",
      "My dog's name is Willie.\n",
      "\n",
      "I have a dog.\n",
      "My dog's name is Willie.\n",
      "\n",
      "I have a hamster.\n",
      "My hamster's name is Harry.\n"
     ]
    }
   ],
   "source": [
    "def describe_pet(pet_name,animal_type = 'dog'):   ###\n",
    "    \"\"\"显示宠物的信息\"\"\" \n",
    "    print(\"\\nI have a \" + animal_type + \".\") \n",
    "    print(\"My \" + animal_type + \"'s name is \" + pet_name.title() + \".\") \n",
    "describe_pet(pet_name='willie')    ###\n",
    "describe_pet('willie')             ###\n",
    "describe_pet(pet_name='harry', animal_type='hamster')  ###"
   ]
  },
  {
   "cell_type": "markdown",
   "metadata": {},
   "source": [
    "## 8.2.4 等效的函数调用\n",
    "鉴于可混合使用位置实参、关键字实参和默认值，通常有多种等效的函数调用方式   \n",
    "\n",
    "如下定义，在任何情况下都必须给pet_name提供实参；指定该实参时可以使用位置方式，也可以使用关键字方式。   \n",
    "如果要描述的动物不是小狗，还必须在函数调用中给animal_type提供实参；同样，指定该实参时可以使用位置方式，也可以使用关键字方式"
   ]
  },
  {
   "cell_type": "code",
   "execution_count": null,
   "metadata": {},
   "outputs": [],
   "source": [
    "def describe_pet(pet_name, animal_type='dog'): "
   ]
  },
  {
   "cell_type": "code",
   "execution_count": 11,
   "metadata": {},
   "outputs": [
    {
     "name": "stdout",
     "output_type": "stream",
     "text": [
      "\n",
      "I have a dog.\n",
      "My dog's name is Willie.\n",
      "\n",
      "I have a dog.\n",
      "My dog's name is Willie.\n",
      "\n",
      "I have a hamster.\n",
      "My hamster's name is Harry.\n",
      "\n",
      "I have a hamster.\n",
      "My hamster's name is Harry.\n",
      "\n",
      "I have a hamster.\n",
      "My hamster's name is Harry.\n"
     ]
    }
   ],
   "source": [
    "# 一条名为Willie的小狗\n",
    "describe_pet('willie') \n",
    "describe_pet(pet_name='willie') \n",
    "\n",
    "# 一只名为Harry的仓鼠\n",
    "describe_pet('harry', 'hamster') \n",
    "describe_pet(pet_name='harry', animal_type='hamster') \n",
    "describe_pet(animal_type='hamster', pet_name='harry')"
   ]
  },
  {
   "cell_type": "markdown",
   "metadata": {},
   "source": [
    "### 8.3 返回值\n",
    "函数并非总是直接显示输出，相反，它可以处理一些数据，并返回一个或一组值。函数返回的值被称为返回值。   \n",
    "return语句将值返回到调用函数的代码行。   \n"
   ]
  },
  {
   "cell_type": "markdown",
   "metadata": {},
   "source": [
    "## 8.3.1 返回简单值\n",
    "\n",
    "如下函数，它接受名和姓并返回整洁的姓名   \n",
    "\n",
    "函数get_formatted_name()的定义通过形参接受名和姓。它将姓和名合而为一，在它们之间加上一个空格，并将结果存储在变量full_name中。   \n",
    "然后，将full_name的值转换为首字母大写格式，并将结果返回到函数调用行   \n",
    "调用返回值的函数时，需要提供一个变量，用于存储返回的值。"
   ]
  },
  {
   "cell_type": "code",
   "execution_count": 17,
   "metadata": {},
   "outputs": [
    {
     "name": "stdout",
     "output_type": "stream",
     "text": [
      "Jimi Hendrix\n"
     ]
    }
   ],
   "source": [
    "def get_formatted_name(first_name, last_name): \n",
    "    \"\"\"返回整洁的姓名\"\"\" \n",
    "    full_name = first_name + ' ' + last_name \n",
    "    return full_name.title()                      ###\n",
    "    \n",
    "musician = get_formatted_name('jimi', 'hendrix')   ###\n",
    "print(musician) "
   ]
  },
  {
   "cell_type": "markdown",
   "metadata": {},
   "source": [
    "## 8.3.2 让实参变成可选的\n",
    "让实参变成可选的，这样使用函数的人就只需在必要时才提供额外的信息。可使用默认值来让实参变成可选的   \n",
    "例如，假设我们要扩展函数get_formatted_name()，使其还处理中间名。"
   ]
  },
  {
   "cell_type": "code",
   "execution_count": 18,
   "metadata": {},
   "outputs": [
    {
     "name": "stdout",
     "output_type": "stream",
     "text": [
      "John Lee Hooker\n"
     ]
    }
   ],
   "source": [
    "def get_formatted_name(first_name, middle_name, last_name): \n",
    "    \"\"\"返回整洁的姓名\"\"\" \n",
    "    full_name = first_name + ' ' + middle_name + ' ' + last_name \n",
    "    return full_name.title() \n",
    " \n",
    "musician = get_formatted_name('john', 'lee', 'hooker') \n",
    "print(musician) "
   ]
  },
  {
   "cell_type": "markdown",
   "metadata": {},
   "source": [
    "并非所有的人都有中间名，让中间名变成可选的，可给实参middle_name指定一个默认值——空字符串，并将其移到形参列表的末尾   \n",
    "并在用户没有提供中间名时不使用这个实参。"
   ]
  },
  {
   "cell_type": "code",
   "execution_count": 19,
   "metadata": {},
   "outputs": [
    {
     "name": "stdout",
     "output_type": "stream",
     "text": [
      "Jimi Hendrix\n",
      "John Lee Hooker\n"
     ]
    }
   ],
   "source": [
    "def get_formatted_name(first_name, last_name, middle_name=''): #空字符串+if+else\n",
    "    \"\"\"返回整洁的姓名\"\"\" \n",
    "    if middle_name: \n",
    "        full_name = first_name + ' ' + middle_name + ' ' + last_name #Python将非空字符串解读为True\n",
    "    else: \n",
    "        full_name = first_name + ' ' + last_name \n",
    "    return full_name.title() \n",
    "\n",
    "musician = get_formatted_name('jimi', 'hendrix') \n",
    "print(musician) \n",
    "musician = get_formatted_name('john', 'hooker', 'lee') \n",
    "print(musician) \n"
   ]
  },
  {
   "cell_type": "markdown",
   "metadata": {},
   "source": [
    "## 8.3.3 返回字典\n",
    "函数可返回任何类型的值，包括列表和字典等较复杂的数据结构。   \n",
    " \n",
    "下面的函数接受姓名的组成部分，并返回一个表示人的字典   \n",
    "函数build_person()接受名和姓，并将这些值封装到字典中。存储first_name的值时，使用的键为'first'，而存储last_name的值时，使用的键为'last'。   \n",
    "最后，返回表示人的整个字典"
   ]
  },
  {
   "cell_type": "code",
   "execution_count": 20,
   "metadata": {},
   "outputs": [
    {
     "name": "stdout",
     "output_type": "stream",
     "text": [
      "{'first': 'jimi', 'last': 'hendrix'}\n"
     ]
    }
   ],
   "source": [
    "def build_person(first_name, last_name): \n",
    "    \"\"\"返回一个字典，其中包含有关一个人的信息\"\"\" \n",
    "    person = {'first': first_name, 'last': last_name}  ###\n",
    "    return person \n",
    "\n",
    "musician = build_person('jimi', 'hendrix') \n",
    "print(musician) "
   ]
  },
  {
   "cell_type": "markdown",
   "metadata": {},
   "source": [
    "扩展这个函数，使其接受可选值，如中间名、年龄、职业或你要存储的其他任何信息   \n",
    "新增了一个可选形参age，并将其默认值设置为空字符串。如果函数调用中包含这个形参的值，这个值将存储到字典中。"
   ]
  },
  {
   "cell_type": "code",
   "execution_count": 33,
   "metadata": {},
   "outputs": [
    {
     "name": "stdout",
     "output_type": "stream",
     "text": [
      "{'first': 'jimi', 'last': 'hendrix'}\n",
      "{'first': 'jimi', 'last': 'hendrix', 'age': 27}\n"
     ]
    }
   ],
   "source": [
    "def build_person(first_name, last_name,age=''):         ###\n",
    "    \"\"\"返回一个字典，其中包含有关一个人的信息\"\"\" \n",
    "    person = {'first': first_name, 'last': last_name}  \n",
    "    if age:                                                   ###\n",
    "        person['age'] = age \n",
    "    return person \n",
    "\n",
    "musician = build_person('jimi', 'hendrix') \n",
    "print(musician) \n",
    "musician = build_person('jimi', 'hendrix', age=27)\n",
    "print(musician) "
   ]
  },
  {
   "cell_type": "markdown",
   "metadata": {},
   "source": [
    "## 8.3.4 结合使用函数和 while 循环\n",
    "可将函数同本书前面介绍的任何Python结构结合起来使用。例如，下面将结合使用函数get_formatted_name()和while循环，用名和姓跟用户打招呼"
   ]
  },
  {
   "cell_type": "code",
   "execution_count": null,
   "metadata": {},
   "outputs": [],
   "source": [
    "def get_formatted_name(first_name, last_name): \n",
    "    \"\"\"返回整洁的姓名\"\"\" \n",
    "    full_name = first_name + ' ' + last_name \n",
    "    return full_name.title() \n",
    "\n",
    "# 这是一个无限循环! \n",
    "while True: \n",
    "    print(\"\\nPlease tell me your name:\") \n",
    "    f_name = input(\"First name: \") \n",
    "    l_name = input(\"Last name: \") \n",
    "    \n",
    "    formatted_name = get_formatted_name(f_name, l_name) \n",
    "    print(\"\\nHello, \" + formatted_name + \"!\") "
   ]
  },
  {
   "cell_type": "markdown",
   "metadata": {},
   "source": [
    "但这个while循环存在一个问题：没有定义退出条件。请用户提供一系列输入时，该在什么地方提供退出条件呢？   \n",
    "我们要让用户能够尽可能容易地退出，因此每次提示用户输入时，都应提供退出途径。每次提示用户输入时，都使用break语句提供了退出循环"
   ]
  },
  {
   "cell_type": "code",
   "execution_count": 3,
   "metadata": {},
   "outputs": [
    {
     "name": "stdout",
     "output_type": "stream",
     "text": [
      "\n",
      "Please tell me your name:\n",
      "(enter 'q' at any time to quit)\n",
      "First name: q\n"
     ]
    }
   ],
   "source": [
    "def get_formatted_name(first_name, last_name): \n",
    "    \"\"\"返回整洁的姓名\"\"\" \n",
    "    full_name = first_name + ' ' + last_name \n",
    "    return full_name.title() \n",
    "\n",
    "while True: \n",
    "    print(\"\\nPlease tell me your name:\") \n",
    "    print(\"(enter 'q' at any time to quit)\")   ###\n",
    "    \n",
    "    f_name = input(\"First name: \")\n",
    "    if f_name == 'q':                         ###\n",
    "        break \n",
    "        \n",
    "    l_name = input(\"Last name: \")\n",
    "    if l_name == 'q':                         ###\n",
    "        break\n",
    "        \n",
    "    formatted_name = get_formatted_name(f_name, l_name)\n",
    "    print(\"\\nHello, \" + formatted_name + \"!\") "
   ]
  },
  {
   "cell_type": "markdown",
   "metadata": {},
   "source": [
    "！！！无限循环后，执行任何模块的代码都是* 号，这时，可以在文件夹前面选中文件，点击出现的duplicate复制一份副本，然后点进副本里面去重新运行"
   ]
  },
  {
   "cell_type": "markdown",
   "metadata": {},
   "source": [
    "## 8.4 传递列表\n",
    "向函数传递列表很有用，这种列表包含的可能是名字、数字或更复杂的对象（如字典）。将列表传递给函数后，函数就能直接访问其内容   \n",
    "\n",
    "假设有一个用户列表，我们要问候其中的每位用户。下面的示例将一个名字列表传递给一个名为greet_users()的函数，这个函数问候列表中的每个人"
   ]
  },
  {
   "cell_type": "code",
   "execution_count": null,
   "metadata": {},
   "outputs": [],
   "source": [
    "def greet_users(names):                             #向函数传递列表\n",
    "    \"\"\"向列表中的每位用户都发出简单的问候\"\"\" \n",
    "    for name in names: \n",
    "        msg = \"Hello, \" + name.title() + \"!\" \n",
    "        print(msg) \n",
    "\n",
    "usernames = ['hannah', 'ty', 'margot'] \n",
    "greet_users(usernames) "
   ]
  },
  {
   "cell_type": "markdown",
   "metadata": {},
   "source": [
    "## 8.4.1 在函数中修改列表\n",
    "将列表传递给函数后，函数就可对其进行修改。在函数中对这个列表所做的任何修改都是永久性的   \n"
   ]
  },
  {
   "cell_type": "code",
   "execution_count": null,
   "metadata": {},
   "outputs": [],
   "source": [
    "# 首先创建一个列表，其中包含一些要打印的设计\n",
    "unprinted_designs = ['iphone case', 'robot pendant', 'dodecahedron'] \n",
    "completed_models = [] \n",
    "\n",
    "# 模拟打印每个设计，直到没有未打印的设计为止\n",
    "# 打印每个设计后，都将其移到列表completed_models中\n",
    "while unprinted_designs: \n",
    "    current_design = unprinted_designs.pop() \n",
    "    \n",
    "    #模拟根据设计制作3D打印模型的过程\n",
    "    print(\"Printing model: \" + current_design) \n",
    "    completed_models.append(current_design) \n",
    " \n",
    "# 显示打印好的所有模型\n",
    "print(\"\\nThe following models have been printed:\") \n",
    "for completed_model in completed_models: \n",
    "    print(completed_model) "
   ]
  },
  {
   "cell_type": "markdown",
   "metadata": {},
   "source": [
    "为重新组织这些代码，我们可编写两个函数，每个都做一件具体的工作。大部分代码都与原来相同，只是效率更高，更清晰。   \n",
    "第一个函数将负责处理打印设计的工作，而第二个将概述打印了哪些设计： \n",
    "\n",
    "函数print_models()，它包含两个形参：一个需要打印的设计列表和一个打印好的模型列表。给定这两个列表，这个函数模拟打印每个设计的过程：   \n",
    "将设计逐个地从未打印的设计列表中取出，并加入到打印好的模型列表中。   \n",
    "函数show_completed_models()，它包含一个形参：打印好的模型列表。给定这个列表，函数show_completed_models()显示打印出来的每个模型的名称。"
   ]
  },
  {
   "cell_type": "code",
   "execution_count": null,
   "metadata": {},
   "outputs": [],
   "source": [
    "def print_models(unprinted_designs, completed_models): \n",
    "    \"\"\" \n",
    "    模拟打印每个设计，直到没有未打印的设计为止\n",
    "    打印每个设计后，都将其移到列表completed_models中\n",
    "    \"\"\" \n",
    "    while unprinted_designs: \n",
    "        current_design = unprinted_designs.pop() \n",
    "        \n",
    "        # 模拟根据设计制作3D打印模型的过程\n",
    "        print(\"Printing model: \" + current_design) \n",
    "        completed_models.append(current_design)\n",
    "        \n",
    "def show_completed_models(completed_models): \n",
    "    \"\"\"显示打印好的所有模型\"\"\" \n",
    "    print(\"\\nThe following models have been printed:\") \n",
    "    for completed_model in completed_models: \n",
    "        print(completed_model)\n",
    "        \n",
    "unprinted_designs = ['iphone case', 'robot pendant', 'dodecahedron'] \n",
    "completed_models = [] \n",
    "print_models(unprinted_designs, completed_models) \n",
    "show_completed_models(completed_models) "
   ]
  },
  {
   "cell_type": "markdown",
   "metadata": {},
   "source": [
    "相比于没有使用函数的版本，这个程序更容易扩展和维护。   \n",
    "如果以后需要打印其他设计，只需再次调用print_models()即可。   \n",
    "如果我们发现需要对打印代码进行修改，只需修改这些代码一次，就能影响所有调用该函数的地方"
   ]
  },
  {
   "cell_type": "markdown",
   "metadata": {},
   "source": [
    "## 8.4.2 禁止函数修改列表\n",
    "即便打印所有设计后，也要保留原来的未打印的设计列表，以供备案。可向函数传递列表的副本而不是原件   \n",
    "切片表示法[:]创建列表的副本"
   ]
  },
  {
   "cell_type": "raw",
   "metadata": {},
   "source": [
    "#print_models(unprinted_designs[:], completed_models)"
   ]
  },
  {
   "cell_type": "markdown",
   "metadata": {},
   "source": [
    "## 8.5 传递任意数量的实参\n",
    "形参名* toppings中的星号让Python创建一个名为toppings的空元组，并将收到的所有值都装到这个元组中   \n",
    "\n",
    "\n",
    "来看一个制作比萨的函数，它需要接受很多配料，但你无法预先确定顾客要多少种配料。   \n",
    "下面的函数只有一个形参* toppings，但不管调用语句提供了多少实参，这个形参都将它们统统收入囊中"
   ]
  },
  {
   "cell_type": "code",
   "execution_count": 6,
   "metadata": {},
   "outputs": [
    {
     "name": "stdout",
     "output_type": "stream",
     "text": [
      "('pepperoni',)\n",
      "('mushrooms', 'green peppers', 'extra cheese')\n"
     ]
    }
   ],
   "source": [
    "def make_pizza(*toppings):       ###\n",
    "    \"\"\"打印顾客点的所有配料\"\"\" \n",
    "    print(toppings) \n",
    " \n",
    "make_pizza('pepperoni') \n",
    "make_pizza('mushrooms', 'green peppers', 'extra cheese')"
   ]
  },
  {
   "cell_type": "markdown",
   "metadata": {},
   "source": [
    "现在，我们可以将这条print语句替换为一个循环，对配料列表进行遍历，并对顾客点的比萨进行描述："
   ]
  },
  {
   "cell_type": "code",
   "execution_count": 7,
   "metadata": {},
   "outputs": [
    {
     "name": "stdout",
     "output_type": "stream",
     "text": [
      "\n",
      "Making a pizza with the following toppings:\n",
      "- pepperoni\n",
      "\n",
      "Making a pizza with the following toppings:\n",
      "- mushrooms\n",
      "- green peppers\n",
      "- extra cheese\n"
     ]
    }
   ],
   "source": [
    "def make_pizza(*toppings):      \n",
    "    \"\"\"概述要制作的比萨\"\"\" \n",
    "    print(\"\\nMaking a pizza with the following toppings:\") \n",
    "    for topping in toppings:                                  ###\n",
    "        print(\"- \" + topping)  \n",
    " \n",
    "make_pizza('pepperoni') \n",
    "make_pizza('mushrooms', 'green peppers', 'extra cheese')"
   ]
  },
  {
   "cell_type": "markdown",
   "metadata": {},
   "source": [
    "## 8.5.1 结合使用位置实参和任意数量实参\n",
    "如果要让函数接受不同类型的实参，必须在函数定义中将接纳任意数量实参的形参放在最后。   \n",
    "Python先匹配位置实参和关键字实参，再将余下的实参都收集到最后一个形参中    \n",
    "\n",
    "例如，如果前面的函数还需要一个表示比萨尺寸的实参，必须将该形参放在形参* toppings的前面：   \n",
    "基于上述函数定义，Python将收到的第一个值存储在形参size中，并将其他的所有值都存储在元组toppings中"
   ]
  },
  {
   "cell_type": "code",
   "execution_count": 8,
   "metadata": {},
   "outputs": [
    {
     "name": "stdout",
     "output_type": "stream",
     "text": [
      "\n",
      "Making a 16-inch pizza with the following toppings:\n",
      "- pepperoni\n",
      "\n",
      "Making a 12-inch pizza with the following toppings:\n",
      "- mushrooms\n",
      "- green peppers\n",
      "- extra cheese\n"
     ]
    }
   ],
   "source": [
    "def make_pizza(size, *toppings): \n",
    "    \"\"\"概述要制作的比萨\"\"\"\n",
    "    print(\"\\nMaking a \" + str(size) + \"-inch pizza with the following toppings:\") \n",
    "    for topping in toppings: \n",
    "        print(\"- \" + topping) \n",
    " \n",
    "make_pizza(16, 'pepperoni') \n",
    "make_pizza(12, 'mushrooms', 'green peppers', 'extra cheese')"
   ]
  },
  {
   "cell_type": "markdown",
   "metadata": {},
   "source": [
    "## 8.5.2 使用任意数量的关键字实参\n",
    "将函数编写成能够接受任意数量的键—值对——调用语句提供了多少就接受多少   \n",
    "\n",
    "是创建用户简介：你知道你将收到有关用户的信息，但不确定会是什么样的信息。   \n",
    "在下面的示例中，函数build_profile()接受名和姓，同时还接受任意数量的关键字实参：   \n",
    "\n",
    "函数build_profile()的定义要求提供名和姓，同时允许用户根据需要提供任意数量的名称—值对。   \n",
    "形参** user_info中的两个星号让Python创建一个名为user_info的空字典，并将收到的所有名称—值对都封装到这个字典中。"
   ]
  },
  {
   "cell_type": "code",
   "execution_count": 9,
   "metadata": {},
   "outputs": [
    {
     "name": "stdout",
     "output_type": "stream",
     "text": [
      "{'first_name': 'albert', 'last_name': 'einstein', 'location': 'princeton', 'field': 'physics'}\n"
     ]
    }
   ],
   "source": [
    "def build_profile(first, last, **user_info):              ###\n",
    "    \"\"\"创建一个字典，其中包含我们知道的有关用户的一切\"\"\" \n",
    "    profile = {} \n",
    "    profile['first_name'] = first    #将名和姓加入到这个字典中\n",
    "    profile['last_name'] = last \n",
    "    for key, value in user_info.items():  #遍历字典user_info中的键—值对，并将每个键—值对都加入到字典profile中。\n",
    "        profile[key] = value \n",
    "    return profile \n",
    "user_profile = build_profile('albert', 'einstein', location='princeton', field='physics') \n",
    "print(user_profile) \n",
    "    "
   ]
  },
  {
   "cell_type": "markdown",
   "metadata": {},
   "source": [
    "## 8.6.1 导入整个模块\n",
    "import module_name   \n",
    "module_name.function_name()    "
   ]
  },
  {
   "cell_type": "markdown",
   "metadata": {},
   "source": [
    "要让函数是可导入的，得先创建模块。模块是扩展名为.py的文件，包含要导入到程序中的代码，下面来创建一个包含函数make_pizza()的模块。   \n",
    "在jupyter中,点击new——text file，输入代码，将代码保存为pizza.py           "
   ]
  },
  {
   "cell_type": "markdown",
   "metadata": {},
   "source": [
    "要调用被导入的模块中的函数，可指定导入的模块的名称pizza和函数名make_pizza()，     \n",
    "Python读取这个文件时，代码行import pizza让Python打开文件pizza.py，并将所有函数都复制过来。   \n",
    "在making_pizzas.py中，可以使用pizza.py中定义的所有函数"
   ]
  },
  {
   "cell_type": "code",
   "execution_count": 1,
   "metadata": {},
   "outputs": [
    {
     "name": "stdout",
     "output_type": "stream",
     "text": [
      "\n",
      "Making a 16-inch pizza with the following toppings:\n",
      "- pepperoni\n",
      "\n",
      "Making a 12-inch pizza with the following toppings:\n",
      "- mushrooms\n",
      "- green peppers\n",
      "- extra cheese\n"
     ]
    }
   ],
   "source": [
    "import pizza    \n",
    "pizza.make_pizza(16, 'pepperoni')    \n",
    "pizza.make_pizza(12, 'mushrooms', 'green peppers', 'extra cheese') "
   ]
  },
  {
   "cell_type": "markdown",
   "metadata": {},
   "source": [
    "## 8.6.2 导入特定的函数\n",
    "from module_name import function_name——导入模块中的特定函数   \n",
    "from module_name import function_0, function_1, function_2 ——通过用逗号分隔函数名，可根据需要从模块中导入任意数量的函数"
   ]
  },
  {
   "cell_type": "code",
   "execution_count": 2,
   "metadata": {},
   "outputs": [
    {
     "name": "stdout",
     "output_type": "stream",
     "text": [
      "\n",
      "Making a 16-inch pizza with the following toppings:\n",
      "- pepperoni\n",
      "\n",
      "Making a 12-inch pizza with the following toppings:\n",
      "- mushrooms\n",
      "- green peppers\n",
      "- extra cheese\n"
     ]
    }
   ],
   "source": [
    "#对于前面的making_pizzas.py示例，如果只想导入要使用的函数，代码将类似于下面这样：   \n",
    "\n",
    "from pizza import make_pizza    \n",
    "make_pizza(16, 'pepperoni')     \n",
    "make_pizza(12, 'mushrooms', 'green peppers', 'extra cheese')"
   ]
  },
  {
   "cell_type": "markdown",
   "metadata": {},
   "source": [
    "## 8.6.3 使用 as 给函数指定别名\n",
    "from module_name import function_name as fn   \n",
    "\n",
    "给函数make_pizza()指定了别名mp()"
   ]
  },
  {
   "cell_type": "code",
   "execution_count": 3,
   "metadata": {},
   "outputs": [
    {
     "name": "stdout",
     "output_type": "stream",
     "text": [
      "\n",
      "Making a 16-inch pizza with the following toppings:\n",
      "- pepperoni\n",
      "\n",
      "Making a 12-inch pizza with the following toppings:\n",
      "- mushrooms\n",
      "- green peppers\n",
      "- extra cheese\n"
     ]
    }
   ],
   "source": [
    "from pizza import make_pizza as mp    \n",
    "mp(16, 'pepperoni')     \n",
    "mp(12, 'mushrooms', 'green peppers', 'extra cheese')"
   ]
  },
  {
   "cell_type": "markdown",
   "metadata": {},
   "source": [
    "## 8.6.4 使用 as 给模块指定别名\n",
    "import module_name as mn   \n",
    "\n",
    "通过给模块指定简短的别名（如给模块pizza指定别名p），让你能够更轻松地调用模块中的函数。"
   ]
  },
  {
   "cell_type": "code",
   "execution_count": 4,
   "metadata": {},
   "outputs": [
    {
     "name": "stdout",
     "output_type": "stream",
     "text": [
      "\n",
      "Making a 16-inch pizza with the following toppings:\n",
      "- pepperoni\n",
      "\n",
      "Making a 12-inch pizza with the following toppings:\n",
      "- mushrooms\n",
      "- green peppers\n",
      "- extra cheese\n"
     ]
    }
   ],
   "source": [
    "import pizza as p    \n",
    "p.make_pizza(16, 'pepperoni')    \n",
    "p.make_pizza(12, 'mushrooms', 'green peppers', 'extra cheese') "
   ]
  },
  {
   "cell_type": "markdown",
   "metadata": {},
   "source": [
    "## 8.6.5 导入模块中的所有函数\n",
    "星号（* ）运算符   \n",
    "from module_name import *"
   ]
  },
  {
   "cell_type": "code",
   "execution_count": 5,
   "metadata": {},
   "outputs": [
    {
     "name": "stdout",
     "output_type": "stream",
     "text": [
      "\n",
      "Making a 16-inch pizza with the following toppings:\n",
      "- pepperoni\n",
      "\n",
      "Making a 12-inch pizza with the following toppings:\n",
      "- mushrooms\n",
      "- green peppers\n",
      "- extra cheese\n"
     ]
    }
   ],
   "source": [
    "from pizza import *    \n",
    "make_pizza(16, 'pepperoni')     \n",
    "make_pizza(12, 'mushrooms', 'green peppers', 'extra cheese') "
   ]
  },
  {
   "cell_type": "markdown",
   "metadata": {},
   "source": [
    "## 8.7 函数编写指南\n",
    "1、编写函数时，需要牢记几个细节。应给函数指定描述性名称，且只在其中使用小写字母和下划线。描述性名称可帮助你和别人明白代码想要做什么   \n",
    "2、每个函数都应包含简要地阐述其功能的注释，该注释应紧跟在函数定义后面，并采用文档字符串格式。    \n",
    "3、给形参指定默认值时，等号两边不要有空格，函数调用中的关键字实参，也是如此\n"
   ]
  }
 ],
 "metadata": {
  "kernelspec": {
   "display_name": "Python 3",
   "language": "python",
   "name": "python3"
  },
  "language_info": {
   "codemirror_mode": {
    "name": "ipython",
    "version": 3
   },
   "file_extension": ".py",
   "mimetype": "text/x-python",
   "name": "python",
   "nbconvert_exporter": "python",
   "pygments_lexer": "ipython3",
   "version": "3.7.6"
  }
 },
 "nbformat": 4,
 "nbformat_minor": 4
}
