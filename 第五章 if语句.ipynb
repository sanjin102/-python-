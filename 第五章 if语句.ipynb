{
 "cells": [
  {
   "cell_type": "markdown",
   "metadata": {},
   "source": [
    "## 5.1 一个简单示例\n",
    "假设你有一个汽车列表，并想将其中每辆汽车的名称打印出来。对于大多数汽车，都应以首字母大写的方式打印其名称，   \n",
    "但对于汽车名'bmw'，应以全大写的方式打印。"
   ]
  },
  {
   "cell_type": "code",
   "execution_count": 1,
   "metadata": {},
   "outputs": [
    {
     "name": "stdout",
     "output_type": "stream",
     "text": [
      "Audi\n",
      "BMW\n",
      "Subaru\n",
      "Toyota\n"
     ]
    }
   ],
   "source": [
    "cars = ['audi', 'bmw', 'subaru', 'toyota'] \n",
    "for car in cars: \n",
    "    if car == 'bmw': \n",
    "        print(car.upper()) \n",
    "    else: \n",
    "        print(car.title()) "
   ]
  },
  {
   "cell_type": "markdown",
   "metadata": {},
   "source": [
    "每条if语句的核心都是一个值为True或False的表达式，这种表达式被称为条件测试。Python根据值为True还是False来决定是否执行if语句中的代码。   \n",
    "如果条件测试的值为True，Python就执行紧跟在if语句后面的代码；如果为False，Python就忽略这些代码。"
   ]
  },
  {
   "cell_type": "markdown",
   "metadata": {},
   "source": [
    "## 5.2.1 检查是否相等\n",
    "首先使用一个等号将car的值设置为'bmw'，再使用两个等号（==）检查car的值是否为'bmw'。"
   ]
  },
  {
   "cell_type": "code",
   "execution_count": 4,
   "metadata": {},
   "outputs": [
    {
     "data": {
      "text/plain": [
       "True"
      ]
     },
     "execution_count": 4,
     "metadata": {},
     "output_type": "execute_result"
    }
   ],
   "source": [
    "car = 'bmw'\n",
    "car == 'bmw'"
   ]
  },
  {
   "cell_type": "markdown",
   "metadata": {},
   "source": [
    "## 5.2.2 检查是否相等时，大小写不同，视为不相等"
   ]
  },
  {
   "cell_type": "code",
   "execution_count": 5,
   "metadata": {},
   "outputs": [
    {
     "data": {
      "text/plain": [
       "False"
      ]
     },
     "execution_count": 5,
     "metadata": {},
     "output_type": "execute_result"
    }
   ],
   "source": [
    "car = 'Audi'\n",
    "car == 'audi'"
   ]
  },
  {
   "cell_type": "code",
   "execution_count": 6,
   "metadata": {},
   "outputs": [
    {
     "data": {
      "text/plain": [
       "True"
      ]
     },
     "execution_count": 6,
     "metadata": {},
     "output_type": "execute_result"
    }
   ],
   "source": [
    "car = 'Audi'\n",
    "car.lower() == 'audi'"
   ]
  },
  {
   "cell_type": "markdown",
   "metadata": {},
   "source": [
    "## 5.2.3 检查是否不相等（!=）"
   ]
  },
  {
   "cell_type": "code",
   "execution_count": 7,
   "metadata": {},
   "outputs": [
    {
     "name": "stdout",
     "output_type": "stream",
     "text": [
      "Hold the anchovies!\n"
     ]
    }
   ],
   "source": [
    "requested_topping = 'mushrooms'   #指出顾客要求的配料是否是意式小银鱼（anchovies）\n",
    "if requested_topping != 'anchovies': \n",
    "    print(\"Hold the anchovies!\") "
   ]
  },
  {
   "cell_type": "markdown",
   "metadata": {},
   "source": [
    "## 5.2.4 比较数字\n",
    "条件语句中可包含各种数学比较，如小于、小于等于<=、大于、大于等于>="
   ]
  },
  {
   "cell_type": "code",
   "execution_count": 9,
   "metadata": {},
   "outputs": [
    {
     "name": "stdout",
     "output_type": "stream",
     "text": [
      "That is not the correct answer.\n"
     ]
    }
   ],
   "source": [
    "answer = 17 \n",
    "if answer != 42: \n",
    "    print(\"That is not the correct answer.\")"
   ]
  },
  {
   "cell_type": "markdown",
   "metadata": {},
   "source": [
    "## 5.2.5 检查多个条件\n",
    "使用and和or检查多个条件"
   ]
  },
  {
   "cell_type": "code",
   "execution_count": 11,
   "metadata": {},
   "outputs": [
    {
     "data": {
      "text/plain": [
       "False"
      ]
     },
     "execution_count": 11,
     "metadata": {},
     "output_type": "execute_result"
    }
   ],
   "source": [
    "age_0 = 22 \n",
    "age_1 = 18 \n",
    "age_0 >= 21 and age_1 >= 21 #要检查是否两个人都不小于21岁"
   ]
  },
  {
   "cell_type": "code",
   "execution_count": 12,
   "metadata": {},
   "outputs": [
    {
     "data": {
      "text/plain": [
       "False"
      ]
     },
     "execution_count": 12,
     "metadata": {},
     "output_type": "execute_result"
    }
   ],
   "source": [
    "(age_0 >= 21) and (age_1 >= 21) \n",
    "#为改善可读性，可将每个测试都分别放在一对括号内"
   ]
  },
  {
   "cell_type": "code",
   "execution_count": 13,
   "metadata": {},
   "outputs": [
    {
     "data": {
      "text/plain": [
       "True"
      ]
     },
     "execution_count": 13,
     "metadata": {},
     "output_type": "execute_result"
    }
   ],
   "source": [
    "age_0 >= 21 or age_1 >= 21 #至少有一个人的年龄不小于21岁"
   ]
  },
  {
   "cell_type": "markdown",
   "metadata": {},
   "source": [
    "## 5.2.6 检查特定值是否包含在列表中\n",
    "使用关键字in"
   ]
  },
  {
   "cell_type": "code",
   "execution_count": 14,
   "metadata": {},
   "outputs": [
    {
     "data": {
      "text/plain": [
       "True"
      ]
     },
     "execution_count": 14,
     "metadata": {},
     "output_type": "execute_result"
    }
   ],
   "source": [
    "requested_toppings = ['mushrooms', 'onions', 'pineapple'] \n",
    "'mushrooms' in requested_toppings "
   ]
  },
  {
   "cell_type": "markdown",
   "metadata": {},
   "source": [
    "## 5.2.7 检查特定值是否不包含在列表中\n",
    "使用关键字not in"
   ]
  },
  {
   "cell_type": "code",
   "execution_count": 15,
   "metadata": {},
   "outputs": [
    {
     "name": "stdout",
     "output_type": "stream",
     "text": [
      "Marie, you can post a response.\n"
     ]
    }
   ],
   "source": [
    "banned_users = ['andrew', 'carolina', 'david'] #用户提交评论前检查他是否被禁言\n",
    "user = 'marie' \n",
    "if user not in banned_users: \n",
    "    print(f\"{user.title()}, you can post a response.\")"
   ]
  },
  {
   "cell_type": "markdown",
   "metadata": {},
   "source": [
    "## 5.2.8 布尔表达式\n",
    "布尔表达式，是条件测试的别名。与条件表达式一样，布尔表达式的结果要么为True，要么为False"
   ]
  },
  {
   "cell_type": "code",
   "execution_count": 16,
   "metadata": {},
   "outputs": [],
   "source": [
    "game_active = True \n",
    "can_edit = False "
   ]
  },
  {
   "cell_type": "markdown",
   "metadata": {},
   "source": [
    "## 5.3 if 语句"
   ]
  },
  {
   "cell_type": "markdown",
   "metadata": {},
   "source": [
    "## 5.3.1 简单的 if 语句"
   ]
  },
  {
   "cell_type": "code",
   "execution_count": 17,
   "metadata": {},
   "outputs": [
    {
     "name": "stdout",
     "output_type": "stream",
     "text": [
      "You are old enough to vote!\n"
     ]
    }
   ],
   "source": [
    "age = 19 \n",
    "if age >= 18: \n",
    "    print(\"You are old enough to vote!\")"
   ]
  },
  {
   "cell_type": "markdown",
   "metadata": {},
   "source": [
    "## 5.3.2 if-else 语句"
   ]
  },
  {
   "cell_type": "code",
   "execution_count": 19,
   "metadata": {},
   "outputs": [
    {
     "name": "stdout",
     "output_type": "stream",
     "text": [
      "Sorry, you are too young to vote.\n"
     ]
    }
   ],
   "source": [
    "age = 17 \n",
    "if age >= 18: \n",
    "    print(\"You are old enough to vote!\") \n",
    "else: \n",
    "    print(\"Sorry, you are too young to vote.\") "
   ]
  },
  {
   "cell_type": "markdown",
   "metadata": {},
   "source": [
    "## 5.3.3 if-elif-else 结构"
   ]
  },
  {
   "cell_type": "code",
   "execution_count": 20,
   "metadata": {},
   "outputs": [
    {
     "name": "stdout",
     "output_type": "stream",
     "text": [
      "Your admission cost is $5.\n"
     ]
    }
   ],
   "source": [
    "age = 12 \n",
    "if age < 4: \n",
    "    print(\"Your admission cost is $0.\") #4岁以下免费；4~18岁收费5美元；18岁（含）以上收费10美元。\n",
    "elif age < 18: \n",
    "    print(\"Your admission cost is $5.\") #4~18岁收费5美元，age < 18就可以\n",
    "else: \n",
    "    print(\"Your admission cost is $10.\")"
   ]
  },
  {
   "cell_type": "code",
   "execution_count": 21,
   "metadata": {},
   "outputs": [
    {
     "name": "stdout",
     "output_type": "stream",
     "text": [
      "Your admission cost is $5.\n"
     ]
    }
   ],
   "source": [
    "age = 12               #代码更简洁\n",
    "if age < 4: \n",
    "    price = 0 \n",
    "elif age < 18: \n",
    "    price = 5 \n",
    "else: \n",
    "    price = 10 \n",
    "print(f\"Your admission cost is ${str(price)}.\")# str（）函数将变量强制转换为字符串"
   ]
  },
  {
   "cell_type": "markdown",
   "metadata": {},
   "source": [
    "## 5.3.4 使用多个 elif 代码块\n",
    "可根据需要使用任意数量的elif代码块"
   ]
  },
  {
   "cell_type": "code",
   "execution_count": 23,
   "metadata": {},
   "outputs": [
    {
     "name": "stdout",
     "output_type": "stream",
     "text": [
      "Your admission cost is $5.\n"
     ]
    }
   ],
   "source": [
    "age = 77\n",
    "if age < 4: \n",
    "    price = 0 \n",
    "elif age < 18: \n",
    "    price = 5 \n",
    "elif age < 65: \n",
    "    price = 10 \n",
    "else: \n",
    "    price = 5 \n",
    "print(f\"Your admission cost is ${str(price)}.\")"
   ]
  },
  {
   "cell_type": "markdown",
   "metadata": {},
   "source": [
    "## 5.3.5 省略 else 代码块\n",
    "Python并不要求if-elif结构后面必须有else代码块。在有些情况下，else代码块很有用；而在其他一些情况下，使用一条elif语句来处理特定的情形更清晰"
   ]
  },
  {
   "cell_type": "code",
   "execution_count": 24,
   "metadata": {},
   "outputs": [
    {
     "name": "stdout",
     "output_type": "stream",
     "text": [
      "Your admission cost is $5.\n"
     ]
    }
   ],
   "source": [
    "age = 12 \n",
    "if age < 4: \n",
    "    price = 0 \n",
    "elif age < 18: \n",
    "    price = 5 \n",
    "elif age < 65: \n",
    "    price = 10 \n",
    "elif age >= 65: #用elif代替else，这比使用else代码块更清晰些\n",
    "    price = 5 \n",
    "print(f\"Your admission cost is ${str(price)}.\")"
   ]
  },
  {
   "cell_type": "markdown",
   "metadata": {},
   "source": [
    "## 5.3.6 测试多个条件\n",
    "if-elif-else结构功能强大，但仅适合用于只有一个条件满足的情况：遇到通过了的测试后，Python就跳过余下的测试，   \n",
    "然而，有时候必须检查你关心的所有条件。在这种情况下，应使用一系列不包含elif和else代码块的简单if语句"
   ]
  },
  {
   "cell_type": "code",
   "execution_count": 25,
   "metadata": {},
   "outputs": [
    {
     "name": "stdout",
     "output_type": "stream",
     "text": [
      "Adding mushrooms.\n",
      "Adding extra cheese.\n",
      "\n",
      "Finished making your pizza!\n"
     ]
    }
   ],
   "source": [
    " requested_toppings = ['mushrooms', 'extra cheese'] #如果顾客点了两种配料，就需要确保在其比萨中包含这些配料\n",
    "if 'mushrooms' in requested_toppings: \n",
    "    print(\"Adding mushrooms.\") \n",
    "if 'pepperoni' in requested_toppings: \n",
    "    print(\"Adding pepperoni.\") \n",
    "if 'extra cheese' in requested_toppings: \n",
    "    print(\"Adding extra cheese.\") \n",
    " \n",
    "print(\"\\nFinished making your pizza!\") "
   ]
  },
  {
   "cell_type": "markdown",
   "metadata": {},
   "source": [
    "## 5.4 使用 if 语句处理列表\n",
    "\n"
   ]
  },
  {
   "cell_type": "markdown",
   "metadata": {},
   "source": [
    "## 5.4.1 检查特殊元素\n"
   ]
  },
  {
   "cell_type": "code",
   "execution_count": 26,
   "metadata": {},
   "outputs": [
    {
     "name": "stdout",
     "output_type": "stream",
     "text": [
      "Adding mushrooms.\n",
      "Adding green peppers.\n",
      "Adding extra cheese.\n",
      "\n",
      "Finished making your pizza!\n"
     ]
    }
   ],
   "source": [
    "requested_toppings = ['mushrooms', 'green peppers', 'extra cheese'] #顾客在点比萨时，每添加一种配料都打印一条消息\n",
    "for requested_topping in requested_toppings: \n",
    "    print(f\"Adding {requested_topping}.\") \n",
    "print(\"\\nFinished making your pizza!\")"
   ]
  },
  {
   "cell_type": "code",
   "execution_count": 31,
   "metadata": {},
   "outputs": [
    {
     "name": "stdout",
     "output_type": "stream",
     "text": [
      "Adding mushrooms.\n",
      "Sorry, we are out of green peppers right now.\n",
      "Adding extra cheese.\n",
      "\n",
      "Finished making your pizza!\n"
     ]
    }
   ],
   "source": [
    "requested_toppings = ['mushrooms', 'green peppers', 'extra cheese'] #顾客在点比萨时，每添加一种配料都打印一条消息\n",
    "for requested_topping in requested_toppings: \n",
    "    if requested_topping == 'green peppers':              #如果比萨店的青椒用完了\n",
    "        print(\"Sorry, we are out of green peppers right now.\") \n",
    "    else:\n",
    "        print(f\"Adding {requested_topping}.\") \n",
    "print(\"\\nFinished making your pizza!\")"
   ]
  },
  {
   "cell_type": "markdown",
   "metadata": {},
   "source": [
    "## 5.4.2 确定列表不是空的\n",
    "到目前为止，对于处理的每个列表都做了一个简单的假设，即假设它们都至少包含一个元素。\n",
    "让用户来提供存储在列表中的信息，因此不能再假设循环运行时列表不是空的。有鉴于此，在运行for循环前确定列表是否为空很重要。"
   ]
  },
  {
   "cell_type": "markdown",
   "metadata": {},
   "source": [
    "例题：在制作比萨前检查顾客点的配料列表是否为空。如果列表是空的，就向顾客确认他是否要点普通比萨；如果列表不为空，就像前面的示例那样制作比萨"
   ]
  },
  {
   "cell_type": "code",
   "execution_count": 33,
   "metadata": {},
   "outputs": [
    {
     "name": "stdout",
     "output_type": "stream",
     "text": [
      "Are you sure you want a plain pizza?\n"
     ]
    }
   ],
   "source": [
    "requested_toppings = []\n",
    "if requested_toppings: \n",
    "    for requested_topping in requested_toppings: \n",
    "        print(f\"Adding {requested_topping}.\") \n",
    "        print(\"\\nFinished making your pizza!\")\n",
    "else: \n",
    "    print(\"Are you sure you want a plain pizza?\") "
   ]
  },
  {
   "cell_type": "markdown",
   "metadata": {},
   "source": [
    "## 5.4.3 使用多个列表"
   ]
  },
  {
   "cell_type": "markdown",
   "metadata": {},
   "source": [
    "在制作比萨前如何拒绝怪异的配料要求。   \n",
    "下面的示例定义了两个列表，其中第一个列表包含比萨店供应的配料，而第二个列表包含顾客点的配料。   \n",
    "对顾客点的配料，检查它是否是比萨店供应的配料，再决定是否在比萨中添加它"
   ]
  },
  {
   "cell_type": "code",
   "execution_count": 34,
   "metadata": {},
   "outputs": [
    {
     "name": "stdout",
     "output_type": "stream",
     "text": [
      "Adding mushrooms.\n",
      "Sorry, we don't have french fries.\n",
      "Adding extra cheese.\n"
     ]
    }
   ],
   "source": [
    "available_toppings = ['mushrooms', 'olives', 'green peppers', 'pepperoni', 'pineapple', 'extra cheese'] \n",
    "requested_toppings = ['mushrooms', 'french fries', 'extra cheese'] \n",
    "for requested_topping in requested_toppings: \n",
    "    if requested_topping in available_toppings: \n",
    "        print(f\"Adding {requested_topping}.\") \n",
    "    else: \n",
    "        print(f\"Sorry, we don't have {requested_topping}.\")"
   ]
  },
  {
   "cell_type": "markdown",
   "metadata": {},
   "source": [
    "在诸如==、>=和<=等比较运算符两边各添加一个空格，例如，if age < 4:要比if age<4:好。   \n",
    "这样的空格不会影响Python对代码的解读，而只是让代码阅读起来更容易"
   ]
  }
 ],
 "metadata": {
  "kernelspec": {
   "display_name": "Python 3",
   "language": "python",
   "name": "python3"
  },
  "language_info": {
   "codemirror_mode": {
    "name": "ipython",
    "version": 3
   },
   "file_extension": ".py",
   "mimetype": "text/x-python",
   "name": "python",
   "nbconvert_exporter": "python",
   "pygments_lexer": "ipython3",
   "version": "3.7.6"
  }
 },
 "nbformat": 4,
 "nbformat_minor": 4
}
