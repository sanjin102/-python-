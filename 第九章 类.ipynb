{
 "cells": [
  {
   "cell_type": "markdown",
   "metadata": {},
   "source": [
    "面向对象编程是最有效的软件编写方法之一。在面向对象编程中，你编写表示现实世界中的事物和情景的类，并基于这些类来创建对象。   \n",
    "编写类时，你定义一大类对象都有的通用行为。基于类创建对象时，每个对象都自动具备这种通用行为，然后可根据需要赋予每个对象独特的个性。   \n",
    "根据类来创建对象被称为实例化，这让你能够使用类的实例。"
   ]
  },
  {
   "cell_type": "markdown",
   "metadata": {},
   "source": [
    "## 9.1 创建和使用类"
   ]
  },
  {
   "cell_type": "markdown",
   "metadata": {},
   "source": [
    "## 9.1.1 创建 Dog 类\n",
    "编写一个表示小狗的简单类Dog——它表示的不是特定的小狗，而是任何小狗。它们都有名字和年龄，大多数小狗还会蹲下和打滚。   \n",
    "由于大多数小狗都具备上述两项信息（名字和年龄）和两种行为（蹲下和打滚），我们的Dog类将包含它们   \n",
    "根据Dog类创建的每个实例都将存储名字和年龄。我们赋予了每条小狗蹲下（sit()）和打滚（roll_over()）的能力：  \n",
    "\n",
    "class Dog()定义了一个名为Dog的类。首字母大写的名称指的是类。这个类定义中的括号是空的，因为我们要从空白创建这个类   \n",
    "1. 方法 __ init __ ()   \n",
    "类中的函数称为方法；你前面学到的有关函数的一切都适用于方法，就目前而言，唯一重要的差别是调用方法的方式   \n",
    "方法__init__()包含三个形参：self、name和age。在这个方法的定义中，形参self必不可少，还必须位于其他形参的前面   \n",
    "Python调用这个__init__()方法来创建Dog实例时，将自动传入实参self。每个与类相关联的方法调用都自动传递实参self，   \n",
    "它是一个指向实例本身的引用，让实例能够访问类中的属性和方法。每当我们根据Dog类创建实例时，都只需给最后两个形参（name和age）提供值。\n",
    "\n",
    "\n",
    "2. 以self为前缀的变量    \n",
    "可供类中的所有方法使用，我们还可以通过类的任何实例来访问这些变量。   \n",
    "self.name = name获取存储在形参name中的值，并将其存储到变量name中，然后该变量被关联到当前创建的实例。   \n",
    "\n",
    "3. Dog类还定义了另外两个方法：sit()和roll_over()。   \n",
    "由于这些方法不需要额外的信息，如名字或年龄，因此它们只有一个形参self。"
   ]
  },
  {
   "cell_type": "code",
   "execution_count": 2,
   "metadata": {},
   "outputs": [],
   "source": [
    "class Dog(): \n",
    "    \"\"\"一次模拟小狗的简单尝试\"\"\" \n",
    "    def __init__(self, name, age): \n",
    "        \"\"\"初始化属性name和age\"\"\" \n",
    "        self.name = name \n",
    "        self.age = age  \n",
    "        \n",
    "    def sit(self): \n",
    "        \"\"\"模拟小狗被命令时蹲下\"\"\" \n",
    "        print(self.name.title() + \" is now sitting.\") \n",
    "        \n",
    "    def roll_over(self): \n",
    "        \"\"\"模拟小狗被命令时打滚\"\"\" \n",
    "        print(self.name.title() + \" rolled over!\")"
   ]
  },
  {
   "cell_type": "markdown",
   "metadata": {},
   "source": [
    "## 9.1.2 根据类创建实例\n",
    "来创建一个表示特定小狗的实例,创建一条名字为'willie'、年龄为6的小狗。   \n",
    "使用实参'willie'和6调用Dog类中的方法__ init__ ()。创建一个表示特定小狗的示例，并使用我们提供的值来设置属性name和age。   \n",
    "没有return语句，但Python自动返回一个表示这条小狗的实例。我们将这个实例存储在变量my_dog中。   \n",
    "我们通常可以认为首字母大写的名称（如Dog）指的是类，而小写的名称（如my_dog）指的是根据类创建的实例   \n",
    "\n",
    "可以这么理解吗？   \n",
    "Dog('willie', 6) 中是实参，Dog()调用Dog类中的方法__ init__ ()，   \n",
    "实参赋值给了形参name和age，self.name = name 再将形参中的值，存储到变量name中，然后该变量被关联（返回）到当前创建的实例，   \n",
    "my_dog = Dog('willie', 6) 将这个实例存储在变量my_dog中。 my_dog.name就是willie"
   ]
  },
  {
   "cell_type": "code",
   "execution_count": 7,
   "metadata": {},
   "outputs": [
    {
     "name": "stdout",
     "output_type": "stream",
     "text": [
      "My dog's name is Willie.\n",
      "My dog is 6 years old.\n"
     ]
    }
   ],
   "source": [
    "class Dog(): \n",
    "    \"\"\"一次模拟小狗的简单尝试\"\"\" \n",
    "    def __init__(self, name, age): \n",
    "        \"\"\"初始化属性name和age\"\"\" \n",
    "        self.name = name \n",
    "        self.age = age  \n",
    "        \n",
    "    def sit(self): \n",
    "        \"\"\"模拟小狗被命令时蹲下——行为\"\"\" \n",
    "        print(self.name.title() + \" is now sitting.\") \n",
    "        \n",
    "    def roll_over(self): \n",
    "        \"\"\"模拟小狗被命令时打滚——行为\"\"\" \n",
    "        print(self.name.title() + \" rolled over!\")\n",
    "\n",
    "my_dog = Dog('willie', 6) \n",
    "print(\"My dog's name is \" + my_dog.name.title() + \".\") \n",
    "print(\"My dog is \" + str(my_dog.age) + \" years old.\") "
   ]
  },
  {
   "cell_type": "markdown",
   "metadata": {},
   "source": [
    "### 访问属性\n",
    "句点表示法，Python先找到实例my_dog，再查找与这个实例相关联的属性name。"
   ]
  },
  {
   "cell_type": "code",
   "execution_count": null,
   "metadata": {},
   "outputs": [],
   "source": [
    "my_dog.name "
   ]
  },
  {
   "cell_type": "markdown",
   "metadata": {},
   "source": [
    "### 调用方法\n",
    "根据Dog类创建实例后，就可以调用Dog类中定义的任何方法。 指定实例的名称（这里是my_dog）和要调用的方法，并用句点分隔它们。   \n",
    "\n",
    "下面来让小狗蹲下和打滚   \n",
    "遇到代码my_dog.sit()时，Python在类Dog中查找方法sit()并运行其代码"
   ]
  },
  {
   "cell_type": "code",
   "execution_count": 10,
   "metadata": {},
   "outputs": [
    {
     "name": "stdout",
     "output_type": "stream",
     "text": [
      "Willie is now sitting.\n",
      "Willie rolled over!\n"
     ]
    }
   ],
   "source": [
    "my_dog = Dog('willie', 6) \n",
    "my_dog.sit() \n",
    "my_dog.roll_over()"
   ]
  },
  {
   "cell_type": "markdown",
   "metadata": {},
   "source": [
    "### 创建多个实例\n",
    "可按需求根据类创建任意数量的实例。可以再创建一个名为your_dog的实例：\n"
   ]
  },
  {
   "cell_type": "code",
   "execution_count": 11,
   "metadata": {},
   "outputs": [
    {
     "name": "stdout",
     "output_type": "stream",
     "text": [
      "My dog's name is Willie.\n",
      "My dog is 6 years old.\n",
      "Willie is now sitting.\n",
      "\n",
      "Your dog's name is Lucy.\n",
      "Your dog is 3 years old.\n",
      "Lucy is now sitting.\n"
     ]
    }
   ],
   "source": [
    "my_dog = Dog('willie', 6) \n",
    "your_dog = Dog('lucy', 3)     ###\n",
    "\n",
    "print(\"My dog's name is \" + my_dog.name.title() + \".\") \n",
    "print(\"My dog is \" + str(my_dog.age) + \" years old.\") \n",
    "my_dog.sit() \n",
    "\n",
    "print(\"\\nYour dog's name is \" + your_dog.name.title() + \".\") \n",
    "print(\"Your dog is \" + str(your_dog.age) + \" years old.\") \n",
    "your_dog.sit() "
   ]
  },
  {
   "cell_type": "markdown",
   "metadata": {},
   "source": [
    "## 9.2 使用类和实例\n",
    "类编写好后，你的大部分时间都将花在使用根据类创建的实例上。你需要执行的一个重要任务是修改实例的属性。   \n",
    "你可以直接修改实例的属性，也可以编写方法以特定的方式进行修改。\n"
   ]
  },
  {
   "cell_type": "markdown",
   "metadata": {},
   "source": [
    "## 9.2.1 Car 类\n",
    "！！！加深对类的理解：   \n",
    "！！！my_new_car = Car(...) ——类的实例化创造一个对象，def __ init__ (self,...)内部用self表示一个实例的属性——self.make = make    \n",
    "！！！my_new_car.get_descriptive_name()——调用方法，输出实例的信息，def get_descriptive_name(self)内部加上self可以访问实例的属性值self.make   \n",
    "\n",
    "下面来编写一个表示汽车的类，它存储了有关汽车的信息，还有一个汇总这些信息的方法"
   ]
  },
  {
   "cell_type": "code",
   "execution_count": 13,
   "metadata": {},
   "outputs": [
    {
     "name": "stdout",
     "output_type": "stream",
     "text": [
      "2016 Audi A4\n"
     ]
    }
   ],
   "source": [
    "class Car(): \n",
    "    \"\"\"一次模拟汽车的简单尝试\"\"\" \n",
    "    def __init__(self, make, model, year): #方法__init__()接受这些形参的值，并将它们存储在根据这个类创建的实例的属性中\n",
    "        \"\"\"初始化描述汽车的属性\"\"\" \n",
    "        self.make = make \n",
    "        self.model = model \n",
    "        self.year = year \n",
    "    def get_descriptive_name(self): \n",
    "        \"\"\"返回整洁的描述性信息\"\"\" \n",
    "        long_name = str(self.year) + ' ' + self.make + ' ' + self.model \n",
    "        return long_name.title() \n",
    "\n",
    "my_new_car = Car('audi', 'a4', 2016)   #类的实例化创造一个对象\n",
    "print(my_new_car.get_descriptive_name()) #调用方法，输出实例的信息"
   ]
  },
  {
   "cell_type": "markdown",
   "metadata": {},
   "source": [
    "## 9.2.2 给属性指定默认值\n",
    "类中的每个属性都必须有初始值，哪怕这个值是0或空字符串。   \n",
    "在有些情况下，如设置默认值时，在方法__init__()内指定这种初始值是可行的；   \n",
    "如果你对某个属性这样做了，就无需包含为它提供初始值的形参"
   ]
  },
  {
   "cell_type": "markdown",
   "metadata": {},
   "source": [
    "下面来添加一个名为odometer_reading的属性，其初始值总是为0。我们还添加了一个名为read_odometer()的方法，用于读取汽车的里程表"
   ]
  },
  {
   "cell_type": "code",
   "execution_count": 1,
   "metadata": {},
   "outputs": [
    {
     "name": "stdout",
     "output_type": "stream",
     "text": [
      "2016 Audi A4\n",
      "This car has 0 miles on it.\n"
     ]
    }
   ],
   "source": [
    "class Car(): \n",
    "    \"\"\"一次模拟汽车的简单尝试\"\"\" \n",
    "    def __init__(self, make, model, year): \n",
    "        \"\"\"初始化描述汽车的属性\"\"\" \n",
    "        self.make = make \n",
    "        self.model = model \n",
    "        self.year = year \n",
    "        self.odometer_reading = 0     #Python将创建一个名为odometer_reading的属性，并将其初始值设置为0\n",
    "        \n",
    "    def get_descriptive_name(self): \n",
    "        \"\"\"返回整洁的描述性信息\"\"\" \n",
    "        long_name = str(self.year) + ' ' + self.make + ' ' + self.model \n",
    "        return long_name.title() \n",
    "    \n",
    "    def read_odometer(self):             #定义了一个名为read_odometer()的方法，它让你能获悉汽车的里程。\n",
    "        \"\"\"打印一条指出汽车里程的消息\"\"\" \n",
    "        print(\"This car has \" + str(self.odometer_reading) + \" miles on it.\") \n",
    "\n",
    "my_new_car = Car('audi', 'a4', 2016)  \n",
    "print(my_new_car.get_descriptive_name())\n",
    "my_new_car.read_odometer()                   ###"
   ]
  },
  {
   "cell_type": "markdown",
   "metadata": {},
   "source": [
    "## 9.2.3 修改属性的值\n",
    "可以以三种不同的方式修改属性的值：——直接通过实例进行修改；通过方法进行设置；通过方法进行递增（增加特定的值）。"
   ]
  },
  {
   "cell_type": "markdown",
   "metadata": {},
   "source": [
    "### 1. 直接修改属性的值\n",
    "通过实例直接访问它"
   ]
  },
  {
   "cell_type": "code",
   "execution_count": 2,
   "metadata": {},
   "outputs": [
    {
     "name": "stdout",
     "output_type": "stream",
     "text": [
      "2016 Audi A4\n",
      "This car has 23 miles on it.\n"
     ]
    }
   ],
   "source": [
    "class Car(): \n",
    "    \"\"\"一次模拟汽车的简单尝试\"\"\" \n",
    "    def __init__(self, make, model, year): \n",
    "        \"\"\"初始化描述汽车的属性\"\"\" \n",
    "        self.make = make \n",
    "        self.model = model \n",
    "        self.year = year \n",
    "        self.odometer_reading = 0    \n",
    "        \n",
    "    def get_descriptive_name(self): \n",
    "        \"\"\"返回整洁的描述性信息\"\"\" \n",
    "        long_name = str(self.year) + ' ' + self.make + ' ' + self.model \n",
    "        return long_name.title() \n",
    "    \n",
    "    def read_odometer(self):             \n",
    "        \"\"\"打印一条指出汽车里程的消息\"\"\" \n",
    "        print(\"This car has \" + str(self.odometer_reading) + \" miles on it.\") \n",
    "\n",
    "my_new_car = Car('audi', 'a4', 2016)  \n",
    "print(my_new_car.get_descriptive_name())\n",
    "\n",
    "#以上内容为复制粘贴内容\n",
    "my_new_car.odometer_reading = 23  #Python在实例my_new_car中找到属性odometer_reading，并将该属性的值设为23：\n",
    "my_new_car.read_odometer()  "
   ]
  },
  {
   "cell_type": "markdown",
   "metadata": {},
   "source": [
    "### 2. 通过方法修改属性的值\n",
    "update_odometer()\n",
    "添加了方法update_odometer()，这个方法接受一个里程值，并将其存储到self.odometer_reading中，   \n",
    "相当于加了一个属性到实参，所以用def update_odometer(self, mileage)，   \n",
    "my_new_car.update_odometer(23)，调用了update_odometer()，并向它提供了实参23"
   ]
  },
  {
   "cell_type": "code",
   "execution_count": null,
   "metadata": {},
   "outputs": [],
   "source": [
    "class Car(): \n",
    "    \"\"\"一次模拟汽车的简单尝试\"\"\" \n",
    "    def __init__(self, make, model, year): \n",
    "        \"\"\"初始化描述汽车的属性\"\"\" \n",
    "        self.make = make \n",
    "        self.model = model \n",
    "        self.year = year \n",
    "        self.odometer_reading = 0    \n",
    "        \n",
    "    def get_descriptive_name(self): \n",
    "        \"\"\"返回整洁的描述性信息\"\"\" \n",
    "        long_name = str(self.year) + ' ' + self.make + ' ' + self.model \n",
    "        return long_name.title() \n",
    "    \n",
    "    def read_odometer(self):             \n",
    "        \"\"\"打印一条指出汽车里程的消息\"\"\" \n",
    "        print(\"This car has \" + str(self.odometer_reading) + \" miles on it.\") \n",
    "        \n",
    "    def update_odometer(self, mileage):   ###\n",
    "        \"\"\"将里程表读数设置为指定的值\"\"\" \n",
    "        self.odometer_reading = mileage \n",
    "\n",
    "my_new_car = Car('audi', 'a4', 2016)  \n",
    "print(my_new_car.get_descriptive_name())\n",
    "\n",
    "my_new_car.update_odometer(23) ###\n",
    "my_new_car.read_odometer()  "
   ]
  },
  {
   "cell_type": "markdown",
   "metadata": {},
   "source": [
    "可对方法update_odometer()进行扩展，使其在修改里程表读数时做些额外的工作。下面来添加一些逻辑，禁止任何人将里程表读数往回调"
   ]
  },
  {
   "cell_type": "code",
   "execution_count": null,
   "metadata": {},
   "outputs": [],
   "source": [
    "class Car(): \n",
    "    \"\"\"一次模拟汽车的简单尝试\"\"\" \n",
    "    def __init__(self, make, model, year): \n",
    "        \"\"\"初始化描述汽车的属性\"\"\" \n",
    "        self.make = make \n",
    "        self.model = model \n",
    "        self.year = year \n",
    "        self.odometer_reading = 0    \n",
    "        \n",
    "    def get_descriptive_name(self): \n",
    "        \"\"\"返回整洁的描述性信息\"\"\" \n",
    "        long_name = str(self.year) + ' ' + self.make + ' ' + self.model \n",
    "        return long_name.title() \n",
    "    \n",
    "    def read_odometer(self):             \n",
    "        \"\"\"打印一条指出汽车里程的消息\"\"\" \n",
    "        print(\"This car has \" + str(self.odometer_reading) + \" miles on it.\") \n",
    "        \n",
    "    def update_odometer(self, mileage):   ###\n",
    "        \"\"\" \n",
    "        将里程表读数设置为指定的值，\n",
    "        禁止将里程表读数往回调\n",
    "        \"\"\"\n",
    "        if mileage >= self.odometer_reading: \n",
    "            self.odometer_reading = mileage \n",
    "        else: \n",
    "            print(\"You can't roll back an odometer!\")  "
   ]
  },
  {
   "cell_type": "markdown",
   "metadata": {},
   "source": [
    "### 3. 通过方法对属性的值进行递增\n",
    "假设我们购买了一辆二手车，且从购买到登记期间增加了100英里的里程，下面的方法让我们能够传递这个增量，并相应地增加里程表读数："
   ]
  },
  {
   "cell_type": "code",
   "execution_count": 3,
   "metadata": {},
   "outputs": [
    {
     "name": "stdout",
     "output_type": "stream",
     "text": [
      "2013 Subaru Outback\n",
      "This car has 23500 miles on it.\n",
      "This car has 23600 miles on it.\n"
     ]
    }
   ],
   "source": [
    "class Car(): \n",
    "    \"\"\"一次模拟汽车的简单尝试\"\"\" \n",
    "    def __init__(self, make, model, year): \n",
    "        \"\"\"初始化描述汽车的属性\"\"\" \n",
    "        self.make = make \n",
    "        self.model = model \n",
    "        self.year = year \n",
    "        self.odometer_reading = 0    \n",
    "        \n",
    "    def get_descriptive_name(self): \n",
    "        \"\"\"返回整洁的描述性信息\"\"\" \n",
    "        long_name = str(self.year) + ' ' + self.make + ' ' + self.model \n",
    "        return long_name.title() \n",
    "    \n",
    "    def read_odometer(self):             \n",
    "        \"\"\"打印一条指出汽车里程的消息\"\"\" \n",
    "        print(\"This car has \" + str(self.odometer_reading) + \" miles on it.\") \n",
    "        \n",
    "    def update_odometer(self, mileage):  \n",
    "        \"\"\" \n",
    "        将里程表读数设置为指定的值，\n",
    "        禁止将里程表读数往回调\n",
    "        \"\"\"\n",
    "        if mileage >= self.odometer_reading: \n",
    "            self.odometer_reading = mileage \n",
    "        else: \n",
    "            print(\"You can't roll back an odometer!\")  \n",
    "            \n",
    "    def increment_odometer(self, miles): ###\n",
    "        \"\"\"将里程表读数增加指定的量\"\"\" \n",
    "        self.odometer_reading += miles \n",
    "        \n",
    "my_used_car = Car('subaru', 'outback', 2013) \n",
    "print(my_used_car.get_descriptive_name()) \n",
    "\n",
    "my_used_car.update_odometer(23500) ###里程表读数设为23500，\n",
    "my_used_car.read_odometer() \n",
    "\n",
    "my_used_car.increment_odometer(100) ###里程表增加100\n",
    "my_used_car.read_odometer() "
   ]
  },
  {
   "cell_type": "markdown",
   "metadata": {},
   "source": [
    "## 9.3 继承\n",
    "编写类时，并非总是要从空白开始。如果你要编写的类是另一个现成类的特殊版本，可使用继承。   \n",
    "一个类继承另一个类时，它将自动获得另一个类的所有属性和方法；原有的类称为父类，而新类称为子类。   \n",
    "子类继承了其父类的所有属性和方法，同时还可以定义自己的属性和方法。"
   ]
  },
  {
   "cell_type": "markdown",
   "metadata": {},
   "source": [
    "## 9.3.1 子类的方法__ init__ ()\n",
    "创建子类的实例时，Python首先给父类的所有属性赋值。为此，子类的方法__ init__ ()需要父类施以援手"
   ]
  },
  {
   "cell_type": "markdown",
   "metadata": {},
   "source": [
    "电动汽车是一种特殊的汽车，因此我们可以在前面创建的Car类的基础上创建新类ElectricCar，这样我们就只需为电动汽车特有的属性和行为编写代码。"
   ]
  },
  {
   "cell_type": "code",
   "execution_count": 4,
   "metadata": {},
   "outputs": [
    {
     "name": "stdout",
     "output_type": "stream",
     "text": [
      "2016 Tesla Model S\n"
     ]
    }
   ],
   "source": [
    "class Car(): \n",
    "    \"\"\"一次模拟汽车的简单尝试\"\"\" \n",
    "    def __init__(self, make, model, year): \n",
    "        \"\"\"初始化描述汽车的属性\"\"\" \n",
    "        self.make = make \n",
    "        self.model = model \n",
    "        self.year = year \n",
    "        self.odometer_reading = 0    \n",
    "        \n",
    "    def get_descriptive_name(self): \n",
    "        \"\"\"返回整洁的描述性信息\"\"\" \n",
    "        long_name = str(self.year) + ' ' + self.make + ' ' + self.model \n",
    "        return long_name.title() \n",
    "    \n",
    "    def read_odometer(self):             \n",
    "        \"\"\"打印一条指出汽车里程的消息\"\"\" \n",
    "        print(\"This car has \" + str(self.odometer_reading) + \" miles on it.\") \n",
    "        \n",
    "    def update_odometer(self, mileage):  \n",
    "        \"\"\" \n",
    "        将里程表读数设置为指定的值，\n",
    "        禁止将里程表读数往回调\n",
    "        \"\"\"\n",
    "        if mileage >= self.odometer_reading: \n",
    "            self.odometer_reading = mileage \n",
    "        else: \n",
    "            print(\"You can't roll back an odometer!\")  \n",
    "            \n",
    "    def increment_odometer(self, miles): \n",
    "        \"\"\"将里程表读数增加指定的量\"\"\" \n",
    "        self.odometer_reading += miles \n",
    "#以上为复制的代码\n",
    "\n",
    "class ElectricCar(Car):   ###\n",
    "    \"\"\"电动汽车的独特之处\"\"\"\n",
    "    def __init__(self, make, model, year): ###\n",
    "        \"\"\"初始化父类的属性\"\"\" \n",
    "        super().__init__(make, model, year) ###\n",
    "        \n",
    "my_tesla = ElectricCar('tesla', 'model s', 2016) \n",
    "print(my_tesla.get_descriptive_name()) "
   ]
  },
  {
   "cell_type": "markdown",
   "metadata": {},
   "source": [
    "定义子类时，必须在括号内指定父类的名称。方法__ init__ ()接受创建Car实例所需的信息，   \n",
    "super()是一个特殊函数，帮助Python将父类和子类关联起来。这行代码让Python调用ElectricCar的父类的方法__init__()，   \n",
    "让ElectricCar实例包含父类的所有属性。父类也称为超类（superclass），名称super因此而得名。"
   ]
  },
  {
   "cell_type": "markdown",
   "metadata": {},
   "source": [
    "## 9.3.3 给子类定义属性和方法\n",
    "让一个类继承另一个类后，可添加区分子类和父类所需的新属性和方法。   \n",
    "下面来添加一个电动汽车特有的属性（电瓶），以及一个描述该属性的方法。我们将存储电瓶容量，并编写一个打印电瓶描述的方法："
   ]
  },
  {
   "cell_type": "code",
   "execution_count": 5,
   "metadata": {},
   "outputs": [
    {
     "name": "stdout",
     "output_type": "stream",
     "text": [
      "2016 Tesla Model S\n",
      "This car has a 70-kWh battery.\n"
     ]
    }
   ],
   "source": [
    "class Car(): \n",
    "    \"\"\"一次模拟汽车的简单尝试\"\"\" \n",
    "    def __init__(self, make, model, year): \n",
    "        \"\"\"初始化描述汽车的属性\"\"\" \n",
    "        self.make = make \n",
    "        self.model = model \n",
    "        self.year = year \n",
    "        self.odometer_reading = 0    \n",
    "        \n",
    "    def get_descriptive_name(self): \n",
    "        \"\"\"返回整洁的描述性信息\"\"\" \n",
    "        long_name = str(self.year) + ' ' + self.make + ' ' + self.model \n",
    "        return long_name.title() \n",
    "    \n",
    "    def read_odometer(self):             \n",
    "        \"\"\"打印一条指出汽车里程的消息\"\"\" \n",
    "        print(\"This car has \" + str(self.odometer_reading) + \" miles on it.\") \n",
    "        \n",
    "    def update_odometer(self, mileage):  \n",
    "        \"\"\" \n",
    "        将里程表读数设置为指定的值，\n",
    "        禁止将里程表读数往回调\n",
    "        \"\"\"\n",
    "        if mileage >= self.odometer_reading: \n",
    "            self.odometer_reading = mileage \n",
    "        else: \n",
    "            print(\"You can't roll back an odometer!\")  \n",
    "            \n",
    "    def increment_odometer(self, miles): \n",
    "        \"\"\"将里程表读数增加指定的量\"\"\" \n",
    "        self.odometer_reading += miles \n",
    "\n",
    "class ElectricCar(Car):   \n",
    "    \"\"\"电动汽车的独特之处\"\"\"\n",
    "    def __init__(self, make, model, year): \n",
    "        \"\"\"初始化父类的属性，再初始化电动汽车特有的属性\"\"\" \n",
    "        super().__init__(make, model, year) \n",
    "#以上为复制的代码\n",
    "\n",
    "        self.battery_size = 70 ###\n",
    "    def describe_battery(self):    ###\n",
    "        \"\"\"打印一条描述电瓶容量的消息\"\"\" \n",
    "        print(\"This car has a \" + str(self.battery_size) + \"-kWh battery.\") \n",
    "        \n",
    "my_tesla = ElectricCar('tesla', 'model s', 2016) \n",
    "print(my_tesla.get_descriptive_name()) \n",
    "my_tesla.describe_battery() "
   ]
  },
  {
   "cell_type": "markdown",
   "metadata": {},
   "source": [
    "## 9.3.4 重写父类的方法\n",
    "对于父类的方法，只要它不符合子类模拟的实物的行为，都可对其进行重写。为此，可在子类中定义一个这样的方法，即它与要重写的父类方法同名。   \n",
    "这样，Python将不会考虑这个父类方法，而只关注你在子类中定义的相应方法。   \n",
    "\n",
    "假设Car类有一个名为fill_gas_tank()的方法，它对全电动汽车来说毫无意义，因此你可能想重写它。下面演示了一种重写方式   \n",
    "现在，如果有人对电动汽车调用方法fill_gas_tank()，Python将忽略Car类中的方法fill_gas_tank()，转而运行上述代码。   \n",
    "使用继承时，可让子类保留从父类那里继承而来的精华，并剔除不需要的糟粕"
   ]
  },
  {
   "cell_type": "markdown",
   "metadata": {},
   "source": [
    "def ElectricCar(Car):    \n",
    "    --snip--    \n",
    "    def fill_gas_tank():    \n",
    "         \"\"\"电动汽车没有油箱\"\"\"    \n",
    "         print(\"This car doesn't need a gas tank!\") "
   ]
  },
  {
   "cell_type": "markdown",
   "metadata": {},
   "source": [
    "## 9.3.5 将实例用作属性\n",
    "给类添加的细节越来越多：属性和方法清单以及文件都越来越长。在这种情况下，可能需要将类的一部分作为一个独立的类提取出来。   \n",
    "你可以将大型类拆分成多个协同工作的小类   \n",
    "\n",
    "例如，不断给ElectricCar类添加细节时，我们可能会发现其中包含很多专门针对汽车电瓶的属性和方法。   \n",
    "在这种情况下，我们可将这些属性和方法提取出来，放到另一个名为Battery的类中，并将一个Battery实例用作ElectricCar类的一个属性"
   ]
  },
  {
   "cell_type": "code",
   "execution_count": 6,
   "metadata": {},
   "outputs": [
    {
     "name": "stdout",
     "output_type": "stream",
     "text": [
      "2016 Tesla Model S\n",
      "This car has a 70-kWh battery.\n"
     ]
    }
   ],
   "source": [
    "class Car(): \n",
    "    \"\"\"一次模拟汽车的简单尝试\"\"\" \n",
    "    def __init__(self, make, model, year): \n",
    "        \"\"\"初始化描述汽车的属性\"\"\" \n",
    "        self.make = make \n",
    "        self.model = model \n",
    "        self.year = year \n",
    "        self.odometer_reading = 0    \n",
    "        \n",
    "    def get_descriptive_name(self): \n",
    "        \"\"\"返回整洁的描述性信息\"\"\" \n",
    "        long_name = str(self.year) + ' ' + self.make + ' ' + self.model \n",
    "        return long_name.title() \n",
    "    \n",
    "    def read_odometer(self):             \n",
    "        \"\"\"打印一条指出汽车里程的消息\"\"\" \n",
    "        print(\"This car has \" + str(self.odometer_reading) + \" miles on it.\") \n",
    "        \n",
    "    def update_odometer(self, mileage):  \n",
    "        \"\"\" \n",
    "        将里程表读数设置为指定的值，\n",
    "        禁止将里程表读数往回调\n",
    "        \"\"\"\n",
    "        if mileage >= self.odometer_reading: \n",
    "            self.odometer_reading = mileage \n",
    "        else: \n",
    "            print(\"You can't roll back an odometer!\")  \n",
    "            \n",
    "    def increment_odometer(self, miles): \n",
    "        \"\"\"将里程表读数增加指定的量\"\"\" \n",
    "        self.odometer_reading += miles \n",
    "#以上为复制的代码，class Car()\n",
    "\n",
    "class Battery():                           #定义了一个名为Battery的新类，它没有继承任何类\n",
    "    \"\"\"一次模拟电动汽车电瓶的简单尝试\"\"\" \n",
    "    def __init__(self, battery_size=70):   #形参battery_size。如果没有给它提供值，电瓶容量将被设置为70\n",
    "        \"\"\"初始化电瓶的属性\"\"\" \n",
    "        self.battery_size = battery_size \n",
    "        \n",
    "    def describe_battery(self): \n",
    "        \"\"\"打印一条描述电瓶容量的消息\"\"\" \n",
    "        print(\"This car has a \" + str(self.battery_size) + \"-kWh battery.\")\n",
    "        \n",
    "class ElectricCar(Car):   \n",
    "    \"\"\"电动汽车的独特之处\"\"\"\n",
    "    def __init__(self, make, model, year): \n",
    "        \"\"\"初始化父类的属性，再初始化电动汽车特有的属性\"\"\" \n",
    "        super().__init__(make, model, year) \n",
    "        self.battery = Battery()                ### \n",
    "        \n",
    "my_tesla = ElectricCar('tesla', 'model s', 2016) #创建一辆电动汽车，并将其存储在变量my_tesla中。\n",
    "print(my_tesla.get_descriptive_name()) \n",
    "my_tesla.battery.describe_battery()  #这行代码让Python在实例my_tesla中查找属性battery，并对Battery实例调用方法describe_battery()\n",
    "\n",
    "        "
   ]
  },
  {
   "cell_type": "markdown",
   "metadata": {},
   "source": [
    "self.battery = Battery()，实例作为属性，  \n",
    "这行代码让Python创建一个新的Battery实例（由于没有指定尺寸，因此为默认值70），并将该实例存储在属性self.battery中。     \n",
    "每当方法__ init__ ()被调用时，都将执行该操作；因此现在每个ElectricCar实例都包含一个自动创建的Battery实例。"
   ]
  },
  {
   "cell_type": "markdown",
   "metadata": {},
   "source": [
    "下面再给Battery类添加一个方法，它根据电瓶容量报告汽车的续航里程："
   ]
  },
  {
   "cell_type": "code",
   "execution_count": 7,
   "metadata": {},
   "outputs": [
    {
     "name": "stdout",
     "output_type": "stream",
     "text": [
      "2016 Tesla Model S\n",
      "This car has a 70-kWh battery.\n",
      "This car can go approximately 240 miles on a full charge.\n"
     ]
    }
   ],
   "source": [
    "class Car(): \n",
    "    \"\"\"一次模拟汽车的简单尝试\"\"\" \n",
    "    def __init__(self, make, model, year): \n",
    "        \"\"\"初始化描述汽车的属性\"\"\" \n",
    "        self.make = make \n",
    "        self.model = model \n",
    "        self.year = year \n",
    "        self.odometer_reading = 0    \n",
    "        \n",
    "    def get_descriptive_name(self): \n",
    "        \"\"\"返回整洁的描述性信息\"\"\" \n",
    "        long_name = str(self.year) + ' ' + self.make + ' ' + self.model \n",
    "        return long_name.title() \n",
    "    \n",
    "    def read_odometer(self):             \n",
    "        \"\"\"打印一条指出汽车里程的消息\"\"\" \n",
    "        print(\"This car has \" + str(self.odometer_reading) + \" miles on it.\") \n",
    "        \n",
    "    def update_odometer(self, mileage):  \n",
    "        \"\"\" \n",
    "        将里程表读数设置为指定的值，\n",
    "        禁止将里程表读数往回调\n",
    "        \"\"\"\n",
    "        if mileage >= self.odometer_reading: \n",
    "            self.odometer_reading = mileage \n",
    "        else: \n",
    "            print(\"You can't roll back an odometer!\")  \n",
    "            \n",
    "    def increment_odometer(self, miles): \n",
    "        \"\"\"将里程表读数增加指定的量\"\"\" \n",
    "        self.odometer_reading += miles \n",
    "\n",
    "class Battery():                          \n",
    "    \"\"\"一次模拟电动汽车电瓶的简单尝试\"\"\" \n",
    "    def __init__(self, battery_size=70):   \n",
    "        \"\"\"初始化电瓶的属性\"\"\" \n",
    "        self.battery_size = battery_size \n",
    "        \n",
    "    def describe_battery(self): \n",
    "        \"\"\"打印一条描述电瓶容量的消息\"\"\" \n",
    "        print(\"This car has a \" + str(self.battery_size) + \"-kWh battery.\")\n",
    "#以上为复制的代码，class Car()和class Battery()\n",
    "\n",
    "    def get_range(self): \n",
    "        \"\"\"打印一条消息，指出电瓶的续航里程\"\"\" \n",
    "        if self.battery_size == 70: \n",
    "            range = 240 \n",
    "        elif self.battery_size == 85: \n",
    "            range = 270 \n",
    "\n",
    "        message = \"This car can go approximately \" + str(range) #\n",
    "        message += \" miles on a full charge.\"                   #用两行写了一句话\n",
    "        print(message) \n",
    "\n",
    "class ElectricCar(Car):   \n",
    "    \"\"\"电动汽车的独特之处\"\"\"\n",
    "    def __init__(self, make, model, year): \n",
    "        \"\"\"初始化父类的属性，再初始化电动汽车特有的属性\"\"\" \n",
    "        super().__init__(make, model, year) \n",
    "        self.battery = Battery() \n",
    "\n",
    "my_tesla = ElectricCar('tesla', 'model s', 2016) \n",
    "print(my_tesla.get_descriptive_name()) \n",
    "my_tesla.battery.describe_battery() \n",
    "my_tesla.battery.get_range()    ###"
   ]
  },
  {
   "cell_type": "markdown",
   "metadata": {},
   "source": [
    "如果电瓶的容量为70kWh，续航里程设置为240英里；如果容量为85kWh，续航里程设置为270英里，然后报告这个值。   \n",
    "为使用这个方法，我们也通过汽车的属性battery来调用它"
   ]
  },
  {
   "cell_type": "markdown",
   "metadata": {},
   "source": [
    "## 9.4 导入类\n",
    "随着你不断地给类添加功能，文件可能变得很长，即便你用了继承。为让文件尽可能整洁。Python允许你将类存储在模块中，然后在主程序中导入所需的模块。"
   ]
  },
  {
   "cell_type": "markdown",
   "metadata": {},
   "source": [
    "## 9.4.1 导入单个类\n",
    "创建一个只包含Car类的模块car.py。从现在开始，使用该模块的程序都必须使用更具体的文件名，如my_car.py。    "
   ]
  },
  {
   "cell_type": "markdown",
   "metadata": {},
   "source": [
    "下面来创建另一个文件——my_car.py，在其中导入Car类并创建其实例"
   ]
  },
  {
   "cell_type": "code",
   "execution_count": 8,
   "metadata": {},
   "outputs": [
    {
     "name": "stdout",
     "output_type": "stream",
     "text": [
      "2016 Audi A4\n"
     ]
    }
   ],
   "source": [
    "from car import Car   #import语句让Python打开模块car，并导入其中的Car类\n",
    "\n",
    "my_new_car = Car('audi', 'a4', 2016) \n",
    "print(my_new_car.get_descriptive_name()) \n",
    "\n",
    "my_new_car.odometer_reading = 23"
   ]
  },
  {
   "cell_type": "markdown",
   "metadata": {},
   "source": [
    "## 9.4.2 在一个模块中存储多个类\n",
    "类Battery和ElectricCar都可帮助模拟汽车，因此下面将它们都加入模块car.py中"
   ]
  },
  {
   "cell_type": "markdown",
   "metadata": {},
   "source": [
    "现在，可以新建一个名为my_electric_car.py的文件，导入ElectricCar类，并创建一辆电动汽车了"
   ]
  },
  {
   "cell_type": "code",
   "execution_count": 1,
   "metadata": {},
   "outputs": [
    {
     "name": "stdout",
     "output_type": "stream",
     "text": [
      "2016 Tesla Model S\n",
      "This car has a 70-kWh battery.\n",
      "This car can go approximately 240 miles on a full charge.\n"
     ]
    }
   ],
   "source": [
    "from car import ElectricCar  #打开模块car，并导入ElectricCar类\n",
    "\n",
    "my_tesla = ElectricCar('tesla', 'model s', 2016) \n",
    "\n",
    "print(my_tesla.get_descriptive_name()) \n",
    "my_tesla.battery.describe_battery() \n",
    "my_tesla.battery.get_range()"
   ]
  },
  {
   "cell_type": "markdown",
   "metadata": {},
   "source": [
    "## 9.4.3 从一个模块中导入多个类\n",
    "如果我们要在同一个程序中创建普通汽车和电动汽车，就需要将Car和ElectricCar类都导入"
   ]
  },
  {
   "cell_type": "code",
   "execution_count": 2,
   "metadata": {},
   "outputs": [
    {
     "name": "stdout",
     "output_type": "stream",
     "text": [
      "2016 Volkswagen Beetle\n",
      "2016 Tesla Roadster\n"
     ]
    }
   ],
   "source": [
    "from car import Car, ElectricCar   #导入多个类时，用逗号分隔了各个类\n",
    "\n",
    "my_beetle = Car('volkswagen', 'beetle', 2016) \n",
    "print(my_beetle.get_descriptive_name()) \n",
    "\n",
    "my_tesla = ElectricCar('tesla', 'roadster', 2016) \n",
    "print(my_tesla.get_descriptive_name()) "
   ]
  },
  {
   "cell_type": "markdown",
   "metadata": {},
   "source": [
    "## 9.4.4 导入整个模块\n",
    "你还可以导入整个模块，再使用句点表示法访问需要的类。即module_name.class_name访问需要的类。"
   ]
  },
  {
   "cell_type": "code",
   "execution_count": 3,
   "metadata": {},
   "outputs": [
    {
     "name": "stdout",
     "output_type": "stream",
     "text": [
      "2016 Volkswagen Beetle\n",
      "2016 Tesla Roadster\n"
     ]
    }
   ],
   "source": [
    "import car \n",
    "\n",
    "my_beetle = car.Car('volkswagen', 'beetle', 2016) \n",
    "print(my_beetle.get_descriptive_name()) \n",
    "\n",
    "my_tesla = car.ElectricCar('tesla', 'roadster', 2016) \n",
    "print(my_tesla.get_descriptive_name()) "
   ]
  },
  {
   "cell_type": "markdown",
   "metadata": {},
   "source": [
    "## 9.4.5 导入模块中的所有类\n",
    "from module_name import *   \n",
    "不推荐使用，推荐上一种import car + my_beetle = car.Car(...) 导入多个类"
   ]
  },
  {
   "cell_type": "markdown",
   "metadata": {},
   "source": [
    "## 9.4.6 在一个模块中导入另一个模块\n",
    "例如，下面将Car类存储在一个模块car_1.py中，并将ElectricCar和Battery类存储在另一个模块中。我们将第二个模块命名为electric_car.py"
   ]
  },
  {
   "cell_type": "markdown",
   "metadata": {},
   "source": [
    "现在可以分别从每个模块中导入类，以根据需要创建任何类型的汽车了"
   ]
  },
  {
   "cell_type": "code",
   "execution_count": 4,
   "metadata": {},
   "outputs": [
    {
     "name": "stdout",
     "output_type": "stream",
     "text": [
      "2016 Volkswagen Beetle\n",
      "2016 Tesla Roadster\n"
     ]
    }
   ],
   "source": [
    "from car_1 import Car \n",
    "from electric_car import ElectricCar \n",
    "\n",
    "my_beetle = Car('volkswagen', 'beetle', 2016) \n",
    "print(my_beetle.get_descriptive_name()) \n",
    "\n",
    "my_tesla = ElectricCar('tesla', 'roadster', 2016) \n",
    "print(my_tesla.get_descriptive_name())"
   ]
  },
  {
   "cell_type": "markdown",
   "metadata": {},
   "source": [
    "## 9.5 Python 标准库\n",
    "Python标准库是一组模块，安装的Python都包含它。你现在对类的工作原理已有大致的了解，可以开始使用其他程序员编写好的模块了。   \n",
    "可使用标准库中的任何函数和类，为此只需在程序开头包含一条简单的import语句。"
   ]
  }
 ],
 "metadata": {
  "kernelspec": {
   "display_name": "Python 3",
   "language": "python",
   "name": "python3"
  },
  "language_info": {
   "codemirror_mode": {
    "name": "ipython",
    "version": 3
   },
   "file_extension": ".py",
   "mimetype": "text/x-python",
   "name": "python",
   "nbconvert_exporter": "python",
   "pygments_lexer": "ipython3",
   "version": "3.7.6"
  }
 },
 "nbformat": 4,
 "nbformat_minor": 4
}
