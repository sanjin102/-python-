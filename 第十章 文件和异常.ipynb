{
 "cells": [
  {
   "cell_type": "markdown",
   "metadata": {},
   "source": [
    "学习处理文件，能让程序能够快速地分析大量的数据；   \n",
    "学习错误处理，避免程序在面对意外情形时崩溃；   \n",
    "学习异常，它们是Python创建的特殊对象，用于管理程序运行时出现的错误；   \n",
    "还将学习模块json，它让你能够保存用户数据，以免在程序停止运行后丢失。"
   ]
  },
  {
   "cell_type": "markdown",
   "metadata": {},
   "source": [
    "## 10.1 从文件中读取数据"
   ]
  },
  {
   "cell_type": "markdown",
   "metadata": {},
   "source": [
    "## 10.1.1 读取整个文件\n",
    "关键字with在不再需要访问文件后将其关闭，函数open()接受一个参数：要打开的文件的名称。 Python在当前执行的文件所在的目录中查找指定的文件。  \n",
    "pi_digits.txt如果存储在当前执行的文件所在的目录，就用with open('pi_digits.txt') as f   \n",
    "\n",
    "当前目录为python，pi_digits.txt存储在当前目录下的——python资料\\python第十章 文件与异常数据中，   \n",
    "用with open('./python资料/python第十章 文件与异常数据/pi_digits.txt')   \n",
    "\n",
    "相比于原始文件，该输出唯一不同的地方是末尾多了一个空行。因为read()到达文件末尾时返回一个空字符串，   \n",
    "而将这个空字符串显示出来时就是一个空行。要删除多出来的空行，可在print语句中使用rstrip()"
   ]
  },
  {
   "cell_type": "code",
   "execution_count": 3,
   "metadata": {},
   "outputs": [
    {
     "name": "stdout",
     "output_type": "stream",
     "text": [
      "3.1415926535\n",
      "  8979323846\n",
      "  2643383279\n",
      "\n",
      "3.1415926535\n",
      "  8979323846\n",
      "  2643383279\n"
     ]
    }
   ],
   "source": [
    "with open('./python资料/python第十章 文件与异常数据/pi_digits.txt') as f:  #f是文件对象\n",
    "    contents = f.read()    #方法read()读取这个文件的全部内容\n",
    "    print(contents) \n",
    "    print(contents.rstrip()) "
   ]
  },
  {
   "cell_type": "markdown",
   "metadata": {},
   "source": [
    "## 10.1.2 文件路径\n",
    "有时可能要打开不在程序文件所属目录中的文件，需要提供文件路径，它让Python到系统的特定位置去查找。    \n",
    "可使用相对文件路径来打开该文件夹中的文件。相对文件路径让Python到指定的位置去查找，而该位置是相对于当前运行的程序所在目录的。   \n",
    "在Windows系统中，在文件路径中使用反斜杠（\\）而不是斜杠（/）   \n",
    "！(反斜杠（\\）和斜杠（/）好像都可以诶(⊙o⊙)…)"
   ]
  },
  {
   "cell_type": "code",
   "execution_count": 4,
   "metadata": {},
   "outputs": [
    {
     "name": "stdout",
     "output_type": "stream",
     "text": [
      "3.1415926535\n",
      "  8979323846\n",
      "  2643383279\n",
      "\n",
      "3.1415926535\n",
      "  8979323846\n",
      "  2643383279\n"
     ]
    }
   ],
   "source": [
    "with open('.\\python资料\\python第十章 文件与异常数据\\pi_digits.txt') as f:  #f是文件对象\n",
    "    contents = f.read()    #方法read()读取这个文件的全部内容\n",
    "    print(contents) \n",
    "    print(contents.rstrip()) "
   ]
  },
  {
   "cell_type": "markdown",
   "metadata": {},
   "source": [
    "绝对路径类似于下面这样:   \n",
    "file_path = 'C:\\Users\\ehmatthes\\other_files\\text_files\\filename.txt'    "
   ]
  },
  {
   "cell_type": "markdown",
   "metadata": {},
   "source": [
    "## 10.1.3 逐行读取\n",
    "对文件对象使用for循环   \n",
    "\n",
    "在这个文件中，每行的末尾都有一个看不见的换行符，而print语句也会加上一个换行符，因此每行末尾都有两个换行符：   \n",
    "一个来自文件，另一个来自print语句。要消除这些多余的空白行，可在print语句中使用rstrip()"
   ]
  },
  {
   "cell_type": "code",
   "execution_count": 7,
   "metadata": {},
   "outputs": [
    {
     "name": "stdout",
     "output_type": "stream",
     "text": [
      "3.1415926535\n",
      "\n",
      "  8979323846\n",
      "\n",
      "  2643383279\n",
      "\n",
      "3.1415926535\n",
      "  8979323846\n",
      "  2643383279\n"
     ]
    }
   ],
   "source": [
    "filename = './python资料/python第十章 文件与异常数据/pi_digits.txt'\n",
    "with open(filename) as file_object: \n",
    "    for line in file_object:          ###\n",
    "        print(line)                   ###\n",
    " \n",
    "filename = './python资料/python第十章 文件与异常数据/pi_digits.txt'\n",
    "with open(filename) as file_object: \n",
    "    for line in file_object: \n",
    "        print(line.rstrip())  "
   ]
  },
  {
   "cell_type": "markdown",
   "metadata": {},
   "source": [
    "## 10.1.4 创建一个包含文件各行内容的列表\n",
    "使用关键字with时，open()返回的文件对象只在with代码块内可用。如果要在with代码块外访问文件的内容，   \n",
    "可在with代码块内将文件的各行存储在一个列表中，并在with代码块外使用该列表   \n",
    " \n",
    "方法readlines()从文件中读取每一行，并将其存储在一个列表中；接下来，该列表被存储到变量lines中"
   ]
  },
  {
   "cell_type": "code",
   "execution_count": 9,
   "metadata": {},
   "outputs": [
    {
     "name": "stdout",
     "output_type": "stream",
     "text": [
      "3.1415926535\n",
      "  8979323846\n",
      "  2643383279\n"
     ]
    }
   ],
   "source": [
    "filename = './python资料/python第十章 文件与异常数据/pi_digits.txt'\n",
    "with open(filename) as file_object: \n",
    "    lines = file_object.readlines()    ###\n",
    "    \n",
    "for line in lines: \n",
    "    print(line.rstrip()) "
   ]
  },
  {
   "cell_type": "markdown",
   "metadata": {},
   "source": [
    "## 10.1.5 使用文件的内容\n",
    "将文件读取到内存中后，就可以以任何方式使用这些数据了。下面以简单的方式使用圆周率的值。    \n",
    "\n",
    "创建了一个变量——pi_string，用于存储圆周率的值。接下来，我们使用一个循环将各行都加入pi_string，并删除每行末尾的换行符和每行左边的空格"
   ]
  },
  {
   "cell_type": "code",
   "execution_count": 11,
   "metadata": {},
   "outputs": [
    {
     "name": "stdout",
     "output_type": "stream",
     "text": [
      "3.141592653589793238462643383279\n",
      "32\n"
     ]
    }
   ],
   "source": [
    "filename = './python资料/python第十章 文件与异常数据/pi_digits.txt'\n",
    "with open(filename) as file_object: \n",
    "    lines = file_object.readlines() \n",
    "    \n",
    "pi_string = ''    ###\n",
    "for line in lines: \n",
    "    pi_string += line.strip() \n",
    "\n",
    "print(pi_string) \n",
    "print(len(pi_string)) "
   ]
  },
  {
   "cell_type": "markdown",
   "metadata": {},
   "source": [
    "读取文本文件时，Python将其中的所有文本都解读为字符串。如果你读取的是数字，并要将其作为数值使用，   \n",
    "就必须使用函数int()将其转换为整数，或使用函数float()将其转换为浮点数"
   ]
  },
  {
   "cell_type": "markdown",
   "metadata": {},
   "source": [
    "## 10.1.6 包含一百万位的大型文件\n",
    "如果我们有一个文本文件，其中包含精确到小数点后1 000 000位而不是30位的圆周率值。在这里，我们只打印到小数点后50位"
   ]
  },
  {
   "cell_type": "code",
   "execution_count": 14,
   "metadata": {},
   "outputs": [
    {
     "name": "stdout",
     "output_type": "stream",
     "text": [
      "3.14159265358979323846264338327950288419716939937510...\n",
      "1000002\n"
     ]
    }
   ],
   "source": [
    "filename = './python资料/python第十章 文件与异常数据/pi_million_digits.txt'\n",
    "with open(filename) as file_object: \n",
    "    lines = file_object.readlines() \n",
    "    \n",
    "pi_string = ''    \n",
    "for line in lines: \n",
    "    pi_string += line.strip() \n",
    "#前7行是上面复制的代码\n",
    "\n",
    "print(pi_string[:52] + \"...\")    ###\n",
    "print(len(pi_string)) "
   ]
  },
  {
   "cell_type": "markdown",
   "metadata": {},
   "source": [
    "## 10.1.7 圆周率值中包含你的生日吗\n",
    "将生日表示为一个由数字组成的字符串，再检查这个字符串是否包含在pi_string中   \n",
    "pi_string是字符串——读取文本文件时，Python将其中的所有文本都解读为字符串"
   ]
  },
  {
   "cell_type": "code",
   "execution_count": 15,
   "metadata": {},
   "outputs": [
    {
     "name": "stdout",
     "output_type": "stream",
     "text": [
      "Enter your birthday, in the form mmddyy: 19981123\n",
      "Your birthday does not appear in the first million digits of pi.\n"
     ]
    }
   ],
   "source": [
    "filename = './python资料/python第十章 文件与异常数据/pi_million_digits.txt'\n",
    "with open(filename) as file_object: \n",
    "    lines = file_object.readlines() \n",
    "    \n",
    "pi_string = ''    \n",
    "for line in lines: \n",
    "    pi_string += line.strip() \n",
    "#前7行是上面复制的代码\n",
    "\n",
    "birthday = input(\"Enter your birthday, in the form mmddyy: \")  ###\n",
    "if birthday in pi_string: \n",
    "    print(\"Your birthday appears in the first million digits of pi!\") \n",
    "else: \n",
    "    print(\"Your birthday does not appear in the first million digits of pi.\")"
   ]
  },
  {
   "cell_type": "markdown",
   "metadata": {},
   "source": [
    "## 10.2 写入文件\n",
    "保存数据的最简单的方式之一是将其写入到文件中。"
   ]
  },
  {
   "cell_type": "markdown",
   "metadata": {},
   "source": [
    "## 10.2.1 写入空文件\n",
    "要将文本写入文件，你在调用open()时需要提供另一个实参，告诉Python你要写入打开的文件。   \n",
    "\n",
    "调用open()时提供了两个实参。第一个实参也是要打开的文件的名称；第二个实参（'w'）以写入模式打开这个文件。   \n",
    "打开文件时，可指定读取模式（'r'）、写入模式（'w'）、附加模式（'a'）或让你能够读取和写入文件的模式（'r+'）。   \n",
    "如果你省略了模式实参，Python将以默认的只读模式打开文件。   \n",
    "\n",
    "文件对象的方法write()将一个字符串写入文件。这个程序没有终端输出，但如果你打开文件programming.txt，将看到其中包含内容"
   ]
  },
  {
   "cell_type": "code",
   "execution_count": 16,
   "metadata": {},
   "outputs": [],
   "source": [
    "filename = './python资料/python第十章 文件与异常数据/programming.txt' \n",
    "with open(filename, 'w') as file_object:    ###\n",
    "    file_object.write(\"I love programming.\") ###"
   ]
  },
  {
   "cell_type": "markdown",
   "metadata": {},
   "source": [
    "如果写入的文件不存在，函数open()将自动创建它。以写入（'w'）模式打开文件时要小心，如果指定的文件已存在，Python将在返回文件对象前清空该文件"
   ]
  },
  {
   "cell_type": "markdown",
   "metadata": {},
   "source": [
    "## 10.2.2 写入多行\n",
    "函数write()不会在你写入的文本末尾添加换行符，要让每个字符串都单独占一行，需要在write()语句中包含换行符\n"
   ]
  },
  {
   "cell_type": "code",
   "execution_count": 18,
   "metadata": {},
   "outputs": [],
   "source": [
    "filename = './python资料/python第十章 文件与异常数据/programming.txt' \n",
    "with open(filename, 'w') as file_object: \n",
    "    file_object.write(\"I love programming.\\n\") \n",
    "    file_object.write(\"I love creating new games.\\n\") "
   ]
  },
  {
   "cell_type": "markdown",
   "metadata": {},
   "source": [
    "## 10.2.3 附加到文件\n",
    "如果你要给文件添加内容，而不是覆盖原有的内容，可以附加模式打开文件。写入到文件的行都将添加到文件末尾。  \n",
    "如果指定的文件不存在，Python将为你创建一个空文件。"
   ]
  },
  {
   "cell_type": "code",
   "execution_count": 21,
   "metadata": {},
   "outputs": [],
   "source": [
    "filename = './python资料/python第十章 文件与异常数据/programming.txt' \n",
    "with open(filename, 'a') as file_object: \n",
    "    file_object.write(\"I also love finding meaning in large datasets.\\n\") \n",
    "    file_object.write(\"I love creating apps that can run in a browser.\\n\") "
   ]
  },
  {
   "cell_type": "markdown",
   "metadata": {},
   "source": [
    "## 10.3 异常\n",
    "异常是使用try-except代码块处理   \n",
    "\n",
    "Python使用被称为异常的特殊对象来管理程序执行期间发生的错误。每当发生让Python不知所措的错误时，它都会创建一个异常对象。   \n",
    "如果你编写了处理该异常的代码，程序将继续运行；如果你未对异常进行处理，程序将停止，并显示一个traceback，其中包含有关异常的报告。   "
   ]
  },
  {
   "cell_type": "markdown",
   "metadata": {},
   "source": [
    "## 10.3.1 处理 ZeroDivisionError 异常"
   ]
  },
  {
   "cell_type": "code",
   "execution_count": 22,
   "metadata": {},
   "outputs": [
    {
     "ename": "ZeroDivisionError",
     "evalue": "division by zero",
     "output_type": "error",
     "traceback": [
      "\u001b[1;31m---------------------------------------------------------------------------\u001b[0m",
      "\u001b[1;31mZeroDivisionError\u001b[0m                         Traceback (most recent call last)",
      "\u001b[1;32m<ipython-input-22-4a2c885885a0>\u001b[0m in \u001b[0;36m<module>\u001b[1;34m\u001b[0m\n\u001b[1;32m----> 1\u001b[1;33m \u001b[0mprint\u001b[0m\u001b[1;33m(\u001b[0m\u001b[1;36m5\u001b[0m\u001b[1;33m/\u001b[0m\u001b[1;36m0\u001b[0m\u001b[1;33m)\u001b[0m\u001b[1;33m\u001b[0m\u001b[1;33m\u001b[0m\u001b[0m\n\u001b[0m",
      "\u001b[1;31mZeroDivisionError\u001b[0m: division by zero"
     ]
    }
   ],
   "source": [
    "print(5/0) #在traceback中，Python无法按你的要求做时，就会创建ZeroDivisionError 异常"
   ]
  },
  {
   "cell_type": "markdown",
   "metadata": {},
   "source": [
    "## 10.3.2 使用 try-except 代码块\n",
    "当你认为可能发生了错误时，可编写一个try-except代码块来处理可能引发的异常。如果这些代码引发了指定的异常，该怎么办   \n",
    "\n",
    "如果try代码块中的代码运行起来没有问题，Python将跳过except代码块；   \n",
    "如果try代码块中的代码导致了错误，Python将查找这样的except代码块，并运行其中的代码，"
   ]
  },
  {
   "cell_type": "code",
   "execution_count": 23,
   "metadata": {},
   "outputs": [
    {
     "name": "stdout",
     "output_type": "stream",
     "text": [
      "You can't divide by zero!\n"
     ]
    }
   ],
   "source": [
    "try: \n",
    "    print(5/0) \n",
    "except ZeroDivisionError: \n",
    "    print(\"You can't divide by zero!\")"
   ]
  },
  {
   "cell_type": "markdown",
   "metadata": {},
   "source": [
    "## 10.3.3 使用异常避免崩溃\n",
    "如果程序能够妥善地处理无效输入，就能再提示用户提供有效输入，而不至于崩溃   \n",
    "\n",
    "下面来创建一个只执行除法运算的简单计算器"
   ]
  },
  {
   "cell_type": "code",
   "execution_count": 1,
   "metadata": {},
   "outputs": [
    {
     "name": "stdout",
     "output_type": "stream",
     "text": [
      "Give me two numbers, and I'll divide them.\n",
      "Enter 'q' to quit.\n",
      "\n",
      "First number: 1\n",
      "Second number: 2\n",
      "0.5\n",
      "\n",
      "First number: 2\n",
      "Second number: 0\n"
     ]
    },
    {
     "ename": "ZeroDivisionError",
     "evalue": "division by zero",
     "output_type": "error",
     "traceback": [
      "\u001b[1;31m---------------------------------------------------------------------------\u001b[0m",
      "\u001b[1;31mZeroDivisionError\u001b[0m                         Traceback (most recent call last)",
      "\u001b[1;32m<ipython-input-1-f915c9a14cd7>\u001b[0m in \u001b[0;36m<module>\u001b[1;34m\u001b[0m\n\u001b[0;32m      8\u001b[0m     \u001b[1;32mif\u001b[0m \u001b[0msecond_number\u001b[0m \u001b[1;33m==\u001b[0m \u001b[1;34m'q'\u001b[0m\u001b[1;33m:\u001b[0m\u001b[1;33m\u001b[0m\u001b[1;33m\u001b[0m\u001b[0m\n\u001b[0;32m      9\u001b[0m         \u001b[1;32mbreak\u001b[0m\u001b[1;33m\u001b[0m\u001b[1;33m\u001b[0m\u001b[0m\n\u001b[1;32m---> 10\u001b[1;33m     \u001b[0manswer\u001b[0m \u001b[1;33m=\u001b[0m \u001b[0mint\u001b[0m\u001b[1;33m(\u001b[0m\u001b[0mfirst_number\u001b[0m\u001b[1;33m)\u001b[0m \u001b[1;33m/\u001b[0m \u001b[0mint\u001b[0m\u001b[1;33m(\u001b[0m\u001b[0msecond_number\u001b[0m\u001b[1;33m)\u001b[0m \u001b[1;31m#Python将⽤户输⼊解读为字符串\u001b[0m\u001b[1;33m\u001b[0m\u001b[1;33m\u001b[0m\u001b[0m\n\u001b[0m\u001b[0;32m     11\u001b[0m     \u001b[0mprint\u001b[0m\u001b[1;33m(\u001b[0m\u001b[0manswer\u001b[0m\u001b[1;33m)\u001b[0m\u001b[1;33m\u001b[0m\u001b[1;33m\u001b[0m\u001b[0m\n",
      "\u001b[1;31mZeroDivisionError\u001b[0m: division by zero"
     ]
    }
   ],
   "source": [
    "print(\"Give me two numbers, and I'll divide them.\") \n",
    "print(\"Enter 'q' to quit.\") \n",
    "while True: \n",
    "    first_number = input(\"\\nFirst number: \") #序提示用户输入一个数字，并将其存储到变量first_number中\n",
    "    if first_number == 'q': \n",
    "        break\n",
    "    second_number = input(\"Second number: \") #如果用户输入的不是表示退出的q，就再提示用户输入一个数字\n",
    "    if second_number == 'q': \n",
    "        break\n",
    "    answer = int(first_number) / int(second_number) #Python将⽤户输⼊解读为字符串\n",
    "    print(answer) "
   ]
  },
  {
   "cell_type": "markdown",
   "metadata": {},
   "source": [
    "## 10.3.4 else 代码块\n",
    "通过将可能引发错误的代码放在try-except代码块中，可提高这个程序抵御错误的能力。   \n",
    "\n",
    "try-except-else代码块的工作原理大致如下：Python尝试执行try代码块中的代码；只有可能引发异常的代码才需要放在try语句中。   \n",
    "有时候，有一些仅在try代码块成功执行时才需要运行的代码；这些代码应放在else代码块中。   \n",
    "except代码块告诉Python，如果它尝试运行try代码块中的代码时引发了指定的异常，该怎么办。"
   ]
  },
  {
   "cell_type": "code",
   "execution_count": 3,
   "metadata": {},
   "outputs": [
    {
     "name": "stdout",
     "output_type": "stream",
     "text": [
      "Give me two numbers, and I'll divide them.\n",
      "Enter 'q' to quit.\n",
      "\n",
      "First number: 3\n",
      "Second number: 0\n",
      "You can't divide by zero!\n",
      "\n",
      "First number: q\n"
     ]
    }
   ],
   "source": [
    "print(\"Give me two numbers, and I'll divide them.\") \n",
    "print(\"Enter 'q' to quit.\") \n",
    "while True: \n",
    "    first_number = input(\"\\nFirst number: \") \n",
    "    if first_number == 'q': \n",
    "        break\n",
    "    second_number = input(\"Second number: \") \n",
    "    \n",
    "    try:                                                  ###\n",
    "        answer = int(first_number) / int(second_number) \n",
    "    except ZeroDivisionError: \n",
    "        print(\"You can't divide by zero!\")\n",
    "        \n",
    "    else:                          ###\n",
    "        print(answer) "
   ]
  },
  {
   "cell_type": "markdown",
   "metadata": {},
   "source": [
    "## 10.3.5 处理 FileNotFoundError 异常\n",
    "使用文件时，一种常见的问题是找不到文件：你要查找的文件可能在其他地方、文件名可能不正确或者这个文件根本就不存在。   \n",
    "对于所有这些情形，都可使用try-except代码块"
   ]
  },
  {
   "cell_type": "code",
   "execution_count": 4,
   "metadata": {},
   "outputs": [
    {
     "ename": "FileNotFoundError",
     "evalue": "[Errno 2] No such file or directory: 'alice.txt'",
     "output_type": "error",
     "traceback": [
      "\u001b[1;31m---------------------------------------------------------------------------\u001b[0m",
      "\u001b[1;31mFileNotFoundError\u001b[0m                         Traceback (most recent call last)",
      "\u001b[1;32m<ipython-input-4-f4d9763c32af>\u001b[0m in \u001b[0;36m<module>\u001b[1;34m\u001b[0m\n\u001b[0;32m      1\u001b[0m \u001b[0mfilename\u001b[0m \u001b[1;33m=\u001b[0m \u001b[1;34m'alice.txt'\u001b[0m\u001b[1;33m\u001b[0m\u001b[1;33m\u001b[0m\u001b[0m\n\u001b[1;32m----> 2\u001b[1;33m \u001b[1;32mwith\u001b[0m \u001b[0mopen\u001b[0m\u001b[1;33m(\u001b[0m\u001b[0mfilename\u001b[0m\u001b[1;33m)\u001b[0m \u001b[1;32mas\u001b[0m \u001b[0mf_obj\u001b[0m\u001b[1;33m:\u001b[0m\u001b[1;33m\u001b[0m\u001b[1;33m\u001b[0m\u001b[0m\n\u001b[0m\u001b[0;32m      3\u001b[0m     \u001b[0mcontents\u001b[0m \u001b[1;33m=\u001b[0m \u001b[0mf_obj\u001b[0m\u001b[1;33m.\u001b[0m\u001b[0mread\u001b[0m\u001b[1;33m(\u001b[0m\u001b[1;33m)\u001b[0m\u001b[1;33m\u001b[0m\u001b[1;33m\u001b[0m\u001b[0m\n",
      "\u001b[1;31mFileNotFoundError\u001b[0m: [Errno 2] No such file or directory: 'alice.txt'"
     ]
    }
   ],
   "source": [
    "filename = 'alice.txt' \n",
    "with open(filename) as f_obj: \n",
    "    contents = f_obj.read() "
   ]
  },
  {
   "cell_type": "markdown",
   "metadata": {},
   "source": [
    "在这个示例中，这个错误是函数open()导致的，因此要处理这个错误，必须将try语句放在包含open()的代码行之前"
   ]
  },
  {
   "cell_type": "code",
   "execution_count": 5,
   "metadata": {},
   "outputs": [
    {
     "name": "stdout",
     "output_type": "stream",
     "text": [
      "Sorry, the file alice.txt does not exist.\n"
     ]
    }
   ],
   "source": [
    "filename = 'alice.txt' \n",
    "try: \n",
    "    with open(filename) as f: \n",
    "        contents = f.read() \n",
    "except FileNotFoundError:    ###\n",
    "    msg = \"Sorry, the file \" + filename + \" does not exist.\" \n",
    "    print(msg)"
   ]
  },
  {
   "cell_type": "markdown",
   "metadata": {},
   "source": [
    "## 10.3.6 分析文本"
   ]
  },
  {
   "cell_type": "markdown",
   "metadata": {},
   "source": [
    "下面来提取童话Alice in Wonderland的文本，并尝试计算它包含多少个单词。   \n",
    "我们将使用方法split()，以空格为分隔符将字符串分拆成多个部分，并将这些部分都存储到一个列表中。   \n",
    "下面是对只包含童话名\"Alice in Wonderland\"的字符串调用方法split()的结果："
   ]
  },
  {
   "cell_type": "code",
   "execution_count": 6,
   "metadata": {},
   "outputs": [
    {
     "data": {
      "text/plain": [
       "['Alice', 'in', 'Wonderland']"
      ]
     },
     "execution_count": 6,
     "metadata": {},
     "output_type": "execute_result"
    }
   ],
   "source": [
    "title = \"Alice in Wonderland\" \n",
    "title.split() "
   ]
  },
  {
   "cell_type": "markdown",
   "metadata": {},
   "source": [
    "为计算Alice in Wonderland这个文本包含多少个单词，我们将对整篇小说调用split()，再计算得到的列表包含多少个元素，   \n",
    "从而确定整篇童话大致包含多少个单词"
   ]
  },
  {
   "cell_type": "code",
   "execution_count": 7,
   "metadata": {},
   "outputs": [
    {
     "name": "stdout",
     "output_type": "stream",
     "text": [
      "The file ./python资料/python第十章 文件与异常数据/alice.txt has about 29461 words.\n"
     ]
    }
   ],
   "source": [
    "filename = './python资料/python第十章 文件与异常数据/alice.txt' \n",
    "try: \n",
    "    with open(filename) as f: \n",
    "        contents = f.read() \n",
    "except FileNotFoundError:    \n",
    "    msg = \"Sorry, the file \" + filename + \" does not exist.\" \n",
    "    print(msg) \n",
    "#前7行是上面复制的代码\n",
    "\n",
    "else:                          # 计算文件大致包含多少个单词\n",
    "    words = contents.split() \n",
    "    num_words = len(words) \n",
    "    print(\"The file \" + filename + \" has about \" + str(num_words) + \" words.\")"
   ]
  },
  {
   "cell_type": "markdown",
   "metadata": {},
   "source": [
    "## 10.3.7 使用多个文件\n",
    "下面多分析几本书。这样做之前，我们先将这个程序的大部分代码移到一个名为count_words()的函数中"
   ]
  },
  {
   "cell_type": "code",
   "execution_count": 10,
   "metadata": {},
   "outputs": [
    {
     "name": "stdout",
     "output_type": "stream",
     "text": [
      "The file ./python资料/python第十章 文件与异常数据/alice.txt has about 29461 words.\n"
     ]
    }
   ],
   "source": [
    "def count_words(filename):                         ###\n",
    "    \"\"\"计算一个文件大致包含多少个单词\"\"\"\n",
    "    \n",
    "    try: \n",
    "        with open(filename) as f: \n",
    "            contents = f.read() \n",
    "    except FileNotFoundError:    \n",
    "        msg = \"Sorry, the file \" + filename + \" does not exist.\" \n",
    "        print(msg) \n",
    "#前7行是上面复制的代码\n",
    "\n",
    "    else:                          # 计算文件大致包含多少个单词\n",
    "        words = contents.split() \n",
    "        num_words = len(words) \n",
    "        print(\"The file \" + filename + \" has about \" + str(num_words) + \" words.\")\n",
    "#4-15行是上面复制的代码\n",
    "    \n",
    "filename = './python资料/python第十章 文件与异常数据/alice.txt' \n",
    "count_words(filename)     "
   ]
  },
  {
   "cell_type": "markdown",
   "metadata": {},
   "source": [
    "现在可以编写一个简单的循环，计算要分析的任何文本包含多少个单词了。为此，我们将要分析的文件的名称存储在一个列表中，   \n",
    "然后对列表中的每个文件都调用count_words()。"
   ]
  },
  {
   "cell_type": "code",
   "execution_count": 12,
   "metadata": {},
   "outputs": [
    {
     "name": "stdout",
     "output_type": "stream",
     "text": [
      "The file ./python资料/python第十章 文件与异常数据/alice.txt has about 29461 words.\n",
      "The file ./python资料/python第十章 文件与异常数据/siddhartha.txt has about 42172 words.\n",
      "Sorry, the file ./python资料/python第十章 文件与异常数据/moby_dick.txt does not exist.\n",
      "The file ./python资料/python第十章 文件与异常数据/little_women.txt has about 189079 words.\n"
     ]
    }
   ],
   "source": [
    "def count_words(filename):                         \n",
    "    \"\"\"计算一个文件大致包含多少个单词\"\"\" \n",
    "    try: \n",
    "        with open(filename) as f: \n",
    "            contents = f.read() \n",
    "    except FileNotFoundError:    \n",
    "        msg = \"Sorry, the file \" + filename + \" does not exist.\" \n",
    "        print(msg) \n",
    "    else:                          \n",
    "        words = contents.split() \n",
    "        num_words = len(words) \n",
    "        print(\"The file \" + filename + \" has about \" + str(num_words) + \" words.\")\n",
    " #前12行是上面复制的代码      \n",
    "\n",
    "filenames = ['./python资料/python第十章 文件与异常数据/alice.txt',\n",
    "             './python资料/python第十章 文件与异常数据/siddhartha.txt', \n",
    "             './python资料/python第十章 文件与异常数据/moby_dick.txt', \n",
    "             './python资料/python第十章 文件与异常数据/little_women.txt']   ###\n",
    "for filename in filenames: \n",
    "    count_words(filename) "
   ]
  },
  {
   "cell_type": "markdown",
   "metadata": {},
   "source": [
    "## 10.3.8 失败时一声不吭\n",
    "有时候你希望程序在发生异常时一声不吭，就像什么都没有发生一样继续运行，可像通常那样编写try代码块，   \n",
    "但在except代码块中明确地告诉Python什么都不要做。Python有一个pass语句，可在代码块中使用它来让Python什么都不要做"
   ]
  },
  {
   "cell_type": "code",
   "execution_count": 13,
   "metadata": {},
   "outputs": [
    {
     "name": "stdout",
     "output_type": "stream",
     "text": [
      "The file ./python资料/python第十章 文件与异常数据/alice.txt has about 29461 words.\n",
      "The file ./python资料/python第十章 文件与异常数据/siddhartha.txt has about 42172 words.\n",
      "The file ./python资料/python第十章 文件与异常数据/little_women.txt has about 189079 words.\n"
     ]
    }
   ],
   "source": [
    "def count_words(filename):                    \n",
    "    \"\"\"计算一个文件大致包含多少个单词\"\"\" \n",
    "    try: \n",
    "        with open(filename) as f: \n",
    "            contents = f.read() \n",
    "    except FileNotFoundError: \n",
    "        pass                              ###\n",
    "    else:                          \n",
    "        words = contents.split() \n",
    "        num_words = len(words) \n",
    "        print(\"The file \" + filename + \" has about \" + str(num_words) + \" words.\")\n",
    "filenames = ['./python资料/python第十章 文件与异常数据/alice.txt',\n",
    "             './python资料/python第十章 文件与异常数据/siddhartha.txt', \n",
    "             './python资料/python第十章 文件与异常数据/moby_dick.txt', \n",
    "             './python资料/python第十章 文件与异常数据/little_women.txt']  \n",
    "for filename in filenames: \n",
    "    count_words(filename) "
   ]
  },
  {
   "cell_type": "markdown",
   "metadata": {},
   "source": [
    "## 10.4 存储数据\n",
    "模块json让你能够将简单的Python数据结构转储到文件中，并在程序再次运行时加载该文件中的数据"
   ]
  },
  {
   "cell_type": "markdown",
   "metadata": {},
   "source": [
    "## 10.4.1 使用 json.dump()存储和 json.load()读取\n",
    "函数json.dump()接受两个实参：要存储的数据以及可用于存储数据的文件对象。   \n",
    "\n",
    "导入模块json，我们指定了要将该数字列表存储到其中的文件的名称，通常使用——文件扩展名.json来指出文件存储的数据为JSON格式。   \n",
    "接下来，我们以写入模式打开这个文件，让json能够将数据写入其中。   \n",
    "最后，我们使用函数json.dump()将数字列表存储到文件numbers.json中。   \n",
    "\n",
    "这个程序没有输出，但我们可以打开文件numbers.json，看看其内容。数据的存储格式与Python中一样"
   ]
  },
  {
   "cell_type": "code",
   "execution_count": 15,
   "metadata": {},
   "outputs": [],
   "source": [
    "import json \n",
    "\n",
    "numbers = [2, 3, 5, 7, 11, 13] \n",
    "\n",
    "filename = './python资料/python第十章 文件与异常数据/numbers.json' \n",
    "with open(filename, 'w') as f: \n",
    "    json.dump(numbers, f) "
   ]
  },
  {
   "cell_type": "markdown",
   "metadata": {},
   "source": [
    "下面再编写一个程序，使用函数json.load()将这个列表读取到内存中，并将其存储到变量numbers中。\n",
    "打印出来与number_writer.py中创建的数字列表相同"
   ]
  },
  {
   "cell_type": "code",
   "execution_count": 16,
   "metadata": {},
   "outputs": [
    {
     "name": "stdout",
     "output_type": "stream",
     "text": [
      "[2, 3, 5, 7, 11, 13]\n"
     ]
    }
   ],
   "source": [
    "import json \n",
    "\n",
    "filename = './python资料/python第十章 文件与异常数据/numbers.json' \n",
    "with open(filename) as f: \n",
    "    numbers = json.load(f) \n",
    "\n",
    "print(numbers) "
   ]
  },
  {
   "cell_type": "markdown",
   "metadata": {},
   "source": [
    "## 10.4.2 保存和读取用户生成的数据\n",
    "下面来看一个这样的例子：用户首次运行程序时被提示输入自己的名字，这样再次运行程序时就记住他了。\n"
   ]
  },
  {
   "cell_type": "code",
   "execution_count": 1,
   "metadata": {},
   "outputs": [
    {
     "name": "stdout",
     "output_type": "stream",
     "text": [
      "What is your name? 刘鑫\n",
      "We'll remember you when you come back, 刘鑫!\n"
     ]
    }
   ],
   "source": [
    "import json \n",
    "username = input(\"What is your name? \")   #们提示输入用户名，并将其存储在一个变量中\n",
    "filename = './python资料/python第十章 文件与异常数据/username.json' \n",
    "with open(filename, 'w') as f: \n",
    "    json.dump(username, f)\n",
    "    print(\"We'll remember you when you come back, \" + username + \"!\")"
   ]
  },
  {
   "cell_type": "markdown",
   "metadata": {},
   "source": [
    "现在再编写一个程序，向其名字被存储的用户发出问候"
   ]
  },
  {
   "cell_type": "code",
   "execution_count": 2,
   "metadata": {},
   "outputs": [
    {
     "name": "stdout",
     "output_type": "stream",
     "text": [
      "Welcome back, 刘鑫!\n"
     ]
    }
   ],
   "source": [
    "import json \n",
    "filename = './python资料/python第十章 文件与异常数据/username.json' \n",
    "with open(filename) as f: \n",
    "    username = json.load(f) \n",
    "    print(\"Welcome back, \" + username + \"!\") "
   ]
  },
  {
   "cell_type": "markdown",
   "metadata": {},
   "source": [
    "我们需要将这两个程序合并到一个程序（remember_me.py）中。这个程序运行时，我们将尝试从文件username.json中获取用户名，因此我们首先编写一个尝试恢复用户名的try代码块。如果这个文件不存在，我们就在except代码块中提示用户输入用户名，并将其存储在username.json中，以便程序再次运行时能够获取它"
   ]
  },
  {
   "cell_type": "code",
   "execution_count": 3,
   "metadata": {},
   "outputs": [
    {
     "name": "stdout",
     "output_type": "stream",
     "text": [
      "Welcome back, 刘鑫!\n"
     ]
    }
   ],
   "source": [
    "import json \n",
    "# 如果以前存储了用户名，就加载它\n",
    "# 否则，就提示用户输入用户名并存储它\n",
    "filename = './python资料/python第十章 文件与异常数据/username.json' \n",
    "try: \n",
    "    with open(filename) as f: \n",
    "        username = json.load(f) \n",
    "except FileNotFoundError: \n",
    "    username = input(\"What is your name? \") \n",
    "    with open(filename, 'w') as f: \n",
    "        json.dump(username, f) \n",
    "        print(\"We'll remember you when you come back, \" + username + \"!\") \n",
    "else: \n",
    "    print(\"Welcome back, \" + username + \"!\")"
   ]
  },
  {
   "cell_type": "markdown",
   "metadata": {},
   "source": [
    "## 10.4.3 重构\n",
    "代码能够正确地运行，但可做进一步的改进——将代码划分为一系列完成具体工作的函数。这样的过程被称为重构。   \n",
    "\n",
    "要重构remember_me.py，可将其大部分逻辑放到一个或多个函数中。remember_me.py的重点是问候用户，   \n",
    "因此我们将其所有代码都放到一个名为greet_user()的函数中"
   ]
  },
  {
   "cell_type": "code",
   "execution_count": 4,
   "metadata": {},
   "outputs": [
    {
     "name": "stdout",
     "output_type": "stream",
     "text": [
      "Welcome back, 刘鑫!\n"
     ]
    }
   ],
   "source": [
    "import json \n",
    "def greet_user(): \n",
    "    \"\"\"问候用户，并指出其名字\"\"\" \n",
    "    \n",
    "    filename = './python资料/python第十章 文件与异常数据/username.json'  #5-15行是上面复制的代码\n",
    "    try: \n",
    "        with open(filename) as f: \n",
    "            username = json.load(f) \n",
    "    except FileNotFoundError: \n",
    "        username = input(\"What is your name? \") \n",
    "        with open(filename, 'w') as f: \n",
    "            json.dump(username, f) \n",
    "            print(\"We'll remember you when you come back, \" + username + \"!\") \n",
    "    else: \n",
    "        print(\"Welcome back, \" + username + \"!\")\n",
    "        \n",
    "greet_user() "
   ]
  },
  {
   "cell_type": "markdown",
   "metadata": {},
   "source": [
    "下面来重构greet_user()，让它不执行这么多任务。为此，我们首先将获取存储的用户名的代码移到另一个函数中："
   ]
  },
  {
   "cell_type": "code",
   "execution_count": 5,
   "metadata": {},
   "outputs": [
    {
     "name": "stdout",
     "output_type": "stream",
     "text": [
      "Welcome back, 刘鑫!\n"
     ]
    }
   ],
   "source": [
    "import json \n",
    "def get_stored_username():               #如果存储了用户名，这个函数就获取并返回它\n",
    "    \"\"\"如果存储了用户名，就获取它\"\"\"            \n",
    "    \n",
    "    filename = './python资料/python第十章 文件与异常数据/username.json' \n",
    "    try: \n",
    "        with open(filename) as f: \n",
    "            username = json.load(f) \n",
    "    except FileNotFoundError:       #如果文件username.json不存在，这个函数就返回None\n",
    "        return None                           \n",
    "    else:                                       \n",
    "        return username                         \n",
    "    \n",
    "def greet_user(): \n",
    "    \"\"\"问候用户，并指出其名字\"\"\" \n",
    "    username = get_stored_username() \n",
    "    if username:                               #如果成功地获取了用户名，就打印一条欢迎用户回来的消息，，否则就提示输入用户名\n",
    "        print(\"Welcome back, \" + username + \"!\") \n",
    "    else: \n",
    "        username = input(\"What is your name? \") \n",
    "        filename = './python资料/python第十章 文件与异常数据/username.json'  \n",
    "        with open(filename, 'w') as f: \n",
    "            json.dump(username, f) \n",
    "            print(\"We'll remember you when you come back, \" + username + \"!\") \n",
    "        \n",
    "greet_user() "
   ]
  },
  {
   "cell_type": "markdown",
   "metadata": {},
   "source": [
    "还需将greet_user()中的另一个代码块提取出来：将没有存储用户名时提示用户输入的代码放在一个独立的函数中"
   ]
  },
  {
   "cell_type": "code",
   "execution_count": 6,
   "metadata": {},
   "outputs": [
    {
     "name": "stdout",
     "output_type": "stream",
     "text": [
      "Welcome back, 刘鑫!\n"
     ]
    }
   ],
   "source": [
    "import json \n",
    "def get_stored_username():             \n",
    "    \"\"\"如果存储了用户名，就获取它\"\"\"            \n",
    "    \n",
    "    filename = './python资料/python第十章 文件与异常数据/username.json' \n",
    "    try: \n",
    "        with open(filename) as f: \n",
    "            username = json.load(f) \n",
    "    except FileNotFoundError:       \n",
    "        return None                           \n",
    "    else:                                       \n",
    "        return username                         \n",
    "\n",
    "def get_new_username(): \n",
    "    \"\"\"提示用户输入用户名\"\"\"    \n",
    "    username = input(\"What is your name? \") \n",
    "    filename = './python资料/python第十章 文件与异常数据/username.json'  \n",
    "    with open(filename, 'w') as f: \n",
    "        json.dump(username, f) \n",
    "    return username \n",
    "      \n",
    "def greet_user(): \n",
    "    \"\"\"问候用户，并指出其名字\"\"\" \n",
    "    username = get_stored_username() \n",
    "    if username:                              \n",
    "        print(\"Welcome back, \" + username + \"!\") \n",
    "    else: \n",
    "        username = get_new_username() \n",
    "        print(\"We'll remember you when you come back, \" + username + \"!\") \n",
    "        \n",
    "greet_user() "
   ]
  }
 ],
 "metadata": {
  "kernelspec": {
   "display_name": "Python 3",
   "language": "python",
   "name": "python3"
  },
  "language_info": {
   "codemirror_mode": {
    "name": "ipython",
    "version": 3
   },
   "file_extension": ".py",
   "mimetype": "text/x-python",
   "name": "python",
   "nbconvert_exporter": "python",
   "pygments_lexer": "ipython3",
   "version": "3.7.6"
  }
 },
 "nbformat": 4,
 "nbformat_minor": 4
}
