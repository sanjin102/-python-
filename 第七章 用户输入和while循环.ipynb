{
 "cells": [
  {
   "cell_type": "markdown",
   "metadata": {},
   "source": [
    "大多数程序都旨在解决最终用户的问题，为此通常需要从用户那里获取一些信息。因此，这种程序需要让用户输入，   \n",
    "在本章中，你将学习如何接受用户输入，让程序能够对其进行处理。在程序需要一个名字时，你需要提示用户输入该名字；   \n",
    "程序需要一个名单时，你需要提示用户输入一系列名字。为此，你需要使用函数input()。"
   ]
  },
  {
   "cell_type": "markdown",
   "metadata": {},
   "source": [
    "## 7.1 函数 input()的工作原理\n",
    "让用户输入一些文本，再将这些文本呈现给用户\n",
    "\n",
    "Python运行第1行代码时，用户将看到提示Tell me something, and I will repeat it back to you:   \n",
    "程序等待用户输入，并在用户按回车键后继续运行。输入存储在变量message中，接下来的print(message)将输入呈现给用户"
   ]
  },
  {
   "cell_type": "code",
   "execution_count": 2,
   "metadata": {},
   "outputs": [
    {
     "name": "stdout",
     "output_type": "stream",
     "text": [
      "Tell me something, and I will repeat it back to you: 12\n",
      "12\n"
     ]
    }
   ],
   "source": [
    "message = input(\"Tell me something, and I will repeat it back to you: \") \n",
    "print(message) "
   ]
  },
  {
   "cell_type": "markdown",
   "metadata": {},
   "source": [
    "## 7.1.1 编写清晰的程序"
   ]
  },
  {
   "cell_type": "code",
   "execution_count": 3,
   "metadata": {},
   "outputs": [
    {
     "name": "stdout",
     "output_type": "stream",
     "text": [
      "Please enter your name: liu\n",
      "Hello, liu!\n"
     ]
    }
   ],
   "source": [
    "name = input(\"Please enter your name: \")    #在提示末尾（这里是冒号后面）包含一个空格，可将提示与用户输入分开\n",
    "print(f\"Hello, {name}!\") "
   ]
  },
  {
   "cell_type": "markdown",
   "metadata": {},
   "source": [
    "创建多行字符串的方式。   \n",
    "第1行将消息的前半部分存储在变量prompt中；   \n",
    "在第2行中，运算符+=在存储在prompt中的字符串末尾附加一个字符串"
   ]
  },
  {
   "cell_type": "code",
   "execution_count": 5,
   "metadata": {},
   "outputs": [
    {
     "name": "stdout",
     "output_type": "stream",
     "text": [
      "If you tell us who you are, we can personalize the messages you see.\n",
      "What is your first name? f\n",
      "\n",
      "Hello,f!\n"
     ]
    }
   ],
   "source": [
    "prompt = \"If you tell us who you are, we can personalize the messages you see.\" \n",
    "prompt += \"\\nWhat is your first name? \" \n",
    "name = input(prompt) \n",
    "print(f\"\\nHello,{name}!\") "
   ]
  },
  {
   "cell_type": "markdown",
   "metadata": {},
   "source": [
    "## 7.1.2 使用 int()来获取数值输入\n",
    "使用函数input()时，Python将用户输入解读为字符串，函数int()可以将字符串转换为数值表示   \n",
    "\n",
    "用户输入的是数字21，但我们请求Python提供变量age的值时，它返回的是'21'——用户输入的数值的字符串表示。   \n",
    "此时不能将存储在age中的字符串'21'与数值18进行比较"
   ]
  },
  {
   "cell_type": "code",
   "execution_count": 9,
   "metadata": {},
   "outputs": [
    {
     "name": "stdout",
     "output_type": "stream",
     "text": [
      "How old are you? 1\n",
      "1\n"
     ]
    },
    {
     "ename": "TypeError",
     "evalue": "'>=' not supported between instances of 'str' and 'int'",
     "output_type": "error",
     "traceback": [
      "\u001b[1;31m---------------------------------------------------------------------------\u001b[0m",
      "\u001b[1;31mTypeError\u001b[0m                                 Traceback (most recent call last)",
      "\u001b[1;32m<ipython-input-9-4c3bdef9911e>\u001b[0m in \u001b[0;36m<module>\u001b[1;34m\u001b[0m\n\u001b[0;32m      2\u001b[0m \u001b[0mprint\u001b[0m\u001b[1;33m(\u001b[0m\u001b[0mage\u001b[0m\u001b[1;33m)\u001b[0m\u001b[1;33m\u001b[0m\u001b[1;33m\u001b[0m\u001b[0m\n\u001b[0;32m      3\u001b[0m \u001b[0mage\u001b[0m             \u001b[1;31m###\u001b[0m\u001b[1;33m\u001b[0m\u001b[1;33m\u001b[0m\u001b[0m\n\u001b[1;32m----> 4\u001b[1;33m \u001b[0mage\u001b[0m \u001b[1;33m>=\u001b[0m \u001b[1;36m18\u001b[0m\u001b[1;33m\u001b[0m\u001b[1;33m\u001b[0m\u001b[0m\n\u001b[0m",
      "\u001b[1;31mTypeError\u001b[0m: '>=' not supported between instances of 'str' and 'int'"
     ]
    }
   ],
   "source": [
    "age = input(\"How old are you? \") \n",
    "print(age) \n",
    "age             ###\n",
    "age >= 18  "
   ]
  },
  {
   "cell_type": "code",
   "execution_count": 10,
   "metadata": {},
   "outputs": [
    {
     "name": "stdout",
     "output_type": "stream",
     "text": [
      "How old are you? 21\n"
     ]
    },
    {
     "data": {
      "text/plain": [
       "True"
      ]
     },
     "execution_count": 10,
     "metadata": {},
     "output_type": "execute_result"
    }
   ],
   "source": [
    "age = input(\"How old are you? \") \n",
    "age = int(age) \n",
    "age >= 18  "
   ]
  },
  {
   "cell_type": "markdown",
   "metadata": {},
   "source": [
    "下面的程序，它判断一个人是否满足坐过山车的身高要求"
   ]
  },
  {
   "cell_type": "code",
   "execution_count": 11,
   "metadata": {},
   "outputs": [
    {
     "name": "stdout",
     "output_type": "stream",
     "text": [
      "How tall are you, in inches? 45\n",
      "\n",
      "You're tall enough to ride!\n"
     ]
    }
   ],
   "source": [
    "height = input(\"How tall are you, in inches? \") \n",
    "height = int(height) \n",
    "if height >= 36: \n",
    "    print(\"\\nYou're tall enough to ride!\") \n",
    "else:\n",
    "    print(\"\\nYou'll be able to ride when you're a little older.\")"
   ]
  },
  {
   "cell_type": "markdown",
   "metadata": {},
   "source": [
    "## 7.1.3 求模运算符\n",
    "求模运算符（%）将两个数相除并返回余数   \n",
    "如果一个数可被另一个数整除，余数就为0，因此求模运算符将返回0，可利用这一点来判断一个数是奇数还是偶数"
   ]
  },
  {
   "cell_type": "code",
   "execution_count": 12,
   "metadata": {},
   "outputs": [
    {
     "data": {
      "text/plain": [
       "1"
      ]
     },
     "execution_count": 12,
     "metadata": {},
     "output_type": "execute_result"
    }
   ],
   "source": [
    "7 % 2 "
   ]
  },
  {
   "cell_type": "code",
   "execution_count": 13,
   "metadata": {},
   "outputs": [
    {
     "name": "stdout",
     "output_type": "stream",
     "text": [
      "Enter a number, and I'll tell you if it's even or odd: 4\n",
      "\n",
      "The number 4 is even.\n"
     ]
    }
   ],
   "source": [
    "number = input(\"Enter a number, and I'll tell you if it's even or odd: \") \n",
    "number = int(number) \n",
    "if number % 2 == 0: \n",
    "    print(f\"\\nThe number {str(number)} is even.\") \n",
    "else: \n",
    "    print(f\"\\nThe number {str(number)} is odd.\")"
   ]
  },
  {
   "cell_type": "markdown",
   "metadata": {},
   "source": [
    "## 7.2 while 循环简介\n",
    "而while循环不断地运行，直到指定的条件不满足为止"
   ]
  },
  {
   "cell_type": "code",
   "execution_count": 14,
   "metadata": {},
   "outputs": [
    {
     "name": "stdout",
     "output_type": "stream",
     "text": [
      "1\n",
      "2\n",
      "3\n",
      "4\n",
      "5\n"
     ]
    }
   ],
   "source": [
    "current_number = 1 \n",
    "while current_number <= 5: \n",
    "    print(current_number) \n",
    "    current_number += 1 "
   ]
  },
  {
   "cell_type": "markdown",
   "metadata": {},
   "source": [
    "## 7.2.2 让用户选择何时退出\n",
    "如下所示。我们在其中定义了一个退出值，只要用户输入的不是这个值，程序就接着运行 \n",
    "空字符串——message = \"\"   \n",
    "空列表——message = []   \n",
    "\n",
    "我们定义了一条提示消息，告诉用户他有两个选择：要么输入一条消息，要么输入退出值（这里为'quit'）。   \n",
    "我们创建了一个变量——message，用于存储用户输入的值。初始值设置为空字符串\"\"，，首次执行while代码行时有可供检查的东西   \n",
    "Python首次执行while语句时，需要将message的值与'quit'进行比较，但此时用户还没有输入。如果没有可供比较的东西，Python将无法继续运行程序。   \n",
    "\n",
    "首次遇到这个循环时，message是一个空字符串，因此Python进入这个循环。   \n",
    "！！！执行到代码行message = input(prompt)时，Python显示提示消息，并等待用户输入。   \n",
    "不管用户输入是什么，都将存储到变量message中并打印出来；   \n",
    "接下来，Python重新检查while语句中的条件。只要用户输入的不是单词'quit'，Python就会再次显示提示消息并等待用户输入"
   ]
  },
  {
   "cell_type": "code",
   "execution_count": 15,
   "metadata": {},
   "outputs": [
    {
     "name": "stdout",
     "output_type": "stream",
     "text": [
      "\n",
      "Tell me something, and I will repeat it back to you:\n",
      "Enter 'quit' to end the program. q\n",
      "q\n",
      "\n",
      "Tell me something, and I will repeat it back to you:\n",
      "Enter 'quit' to end the program. 1\n",
      "1\n",
      "\n",
      "Tell me something, and I will repeat it back to you:\n",
      "Enter 'quit' to end the program. quit\n",
      "quit\n"
     ]
    }
   ],
   "source": [
    "prompt = \"\\nTell me something, and I will repeat it back to you:\" \n",
    "prompt += \"\\nEnter 'quit' to end the program. \"  \n",
    "message = \"\" \n",
    "while message != 'quit': \n",
    "    message = input(prompt) \n",
    "    print(message)"
   ]
  },
  {
   "cell_type": "markdown",
   "metadata": {},
   "source": [
    "这个程序很好，唯一美中不足的是，它将单词'quit'也作为一条消息打印了出来。为修复这种问题，只需使用一个简单的if测试"
   ]
  },
  {
   "cell_type": "code",
   "execution_count": 16,
   "metadata": {},
   "outputs": [
    {
     "name": "stdout",
     "output_type": "stream",
     "text": [
      "\n",
      "Tell me something, and I will repeat it back to you:\n",
      "Enter 'quit' to end the program. quit\n"
     ]
    }
   ],
   "source": [
    "prompt = \"\\nTell me something, and I will repeat it back to you:\" \n",
    "prompt += \"\\nEnter 'quit' to end the program. \"  \n",
    "message = \"\" \n",
    "while message != 'quit': \n",
    "    message = input(prompt) \n",
    "    if message != 'quit':     ### \n",
    "        print(message)"
   ]
  },
  {
   "cell_type": "markdown",
   "metadata": {},
   "source": [
    "## 7.2.3 使用标志\n",
    "在要求很多条件都满足才继续运行的程序中，可定义一个变量，用于判断整个程序是否处于活动状态。   \n",
    "这个变量被称为标志，充当了程序的交通信号灯。让程序在标志为True时继续运行，   \n",
    "这样，在while语句中就只需检查一个条件——标志的当前值是否为True     \n",
    "\n",
    "下面来在前一节的程序添加一个标志。我们把这个标志命名为active（可给它指定任何名称），它将用于判断程序是否应继续运行,   \n",
    "将变量active设置成了True，让程序最初处于活动状态。如果用户输入的是'quit'，我们就将变量active设置为False，循环不再继续执行"
   ]
  },
  {
   "cell_type": "code",
   "execution_count": 21,
   "metadata": {},
   "outputs": [
    {
     "name": "stdout",
     "output_type": "stream",
     "text": [
      "\n",
      "Tell me something, and I will repeat it back to you:\n",
      "Enter 'quit' to end the program. quit\n"
     ]
    }
   ],
   "source": [
    "prompt = \"\\nTell me something, and I will repeat it back to you:\" \n",
    "prompt += \"\\nEnter 'quit' to end the program. \"  \n",
    "active = True \n",
    "while active: \n",
    "    message = input(prompt) \n",
    "    \n",
    "    if message == 'quit': \n",
    "        active = False \n",
    "    else: \n",
    "        print(message) "
   ]
  },
  {
   "cell_type": "markdown",
   "metadata": {},
   "source": [
    "## 7.2.4 使用 break 退出循环\n",
    "在任何Python循环中都可使用break语句。例如，可使用break语句来退出遍历列表或字典的for循环。\n",
    "\n",
    "一个让用户指出他到过哪些地方的程序。在这个程序中，我们可以在用户输入'quit'后使用break语句立即退出while循环"
   ]
  },
  {
   "cell_type": "code",
   "execution_count": 22,
   "metadata": {},
   "outputs": [
    {
     "name": "stdout",
     "output_type": "stream",
     "text": [
      "\n",
      "Please enter the name of a city you have visited:\n",
      "(Enter 'quit' when you are finished.) quit\n"
     ]
    }
   ],
   "source": [
    "prompt = \"\\nPlease enter the name of a city you have visited:\" \n",
    "prompt += \"\\n(Enter 'quit' when you are finished.) \" \n",
    "while True: \n",
    "    city = input(prompt) \n",
    "    \n",
    "    if city == 'quit': \n",
    "        break\n",
    "    else: \n",
    "        print(f\"I'd love to go to {city.title()}..\")"
   ]
  },
  {
   "cell_type": "markdown",
   "metadata": {},
   "source": [
    "## 7.2.5 在循环中使用 continue\n",
    "要返回到循环开头，并根据条件测试结果决定是否继续执行循环，可使用continue语句，   \n",
    "它不像break语句那样不再执行余下的代码并退出整个循环。   \n",
    "\n",
    "从1数到10，但只打印其中偶数的循环：   \n",
    "将current_number设置成了0，小于10，Python进入while循环。进入循环后，以步长1的方式往上数，current_number为1。     \n",
    "接下来，if语句检查current_number与2的求模运算结果。如果结果为0，就执行continue语句，忽略余下的代码，并返回到循环的开头。     \n",
    "如果当前的数字不能被2整除，就执行循环中余下的代码，Python将这个数字打印出来"
   ]
  },
  {
   "cell_type": "code",
   "execution_count": 23,
   "metadata": {},
   "outputs": [
    {
     "name": "stdout",
     "output_type": "stream",
     "text": [
      "1\n",
      "3\n",
      "5\n",
      "7\n",
      "9\n"
     ]
    }
   ],
   "source": [
    "current_number = 0 \n",
    "while current_number < 10: \n",
    "    current_number += 1 \n",
    "    if current_number % 2 == 0: \n",
    "        continue \n",
    "    print(current_number) "
   ]
  },
  {
   "cell_type": "markdown",
   "metadata": {},
   "source": [
    "## 7.2.6 避免无限循环\n",
    "如果程序陷入无限循环，可按Ctrl + C，也可关闭显示程序输出的终端窗口。"
   ]
  },
  {
   "cell_type": "code",
   "execution_count": null,
   "metadata": {},
   "outputs": [],
   "source": [
    "x = 1 \n",
    "while x <= 5: \n",
    "    #print(x)"
   ]
  },
  {
   "cell_type": "markdown",
   "metadata": {},
   "source": [
    "## 7.3 使用 while 循环来处理列表和字典\n",
    "到目前为止，我们每次都只处理了一项用户信息：获取用户的输入，再将输入打印出来或作出应答；   \n",
    "循环再次运行时，我们获悉另一个输入值并作出响应。然而，要记录大量的用户和信息，需要在while循环中使用列表和字典。\n",
    "for循环是一种遍历列表的有效方式，但在for循环中不应修改列表，否则将导致Python难以跟踪其中的元素。   \n",
    "要在遍历列表的同时对其进行修改，可使用while循环。"
   ]
  },
  {
   "cell_type": "markdown",
   "metadata": {},
   "source": [
    "## 7.3.1 在列表之间移动元素\n",
    "假设有一个列表，其中包含新注册但还未验证的网站用户；验证这些用户后，如何将他们移到另一个已验证用户列表中呢？   \n",
    "一种办法是使用一个while循环，在验证用户的同时将其从未验证用户列表中提取出来，再将其加入到另一个已验证用户列表中。"
   ]
  },
  {
   "cell_type": "code",
   "execution_count": 25,
   "metadata": {},
   "outputs": [
    {
     "name": "stdout",
     "output_type": "stream",
     "text": [
      "Verifying user: Candace\n",
      "Verifying user: Brian\n",
      "Verifying user: Alice\n",
      "\n",
      "The following users have been confirmed:\n",
      "Candace\n",
      "Brian\n",
      "Alice\n"
     ]
    }
   ],
   "source": [
    "# 首先，创建一个待验证用户列表\n",
    "# 和一个用于存储已验证用户的空列表\n",
    "unconfirmed_users = ['alice', 'brian', 'candace'] \n",
    "confirmed_users = [] \n",
    "# 验证每个用户，直到没有未验证用户为止\n",
    "# 将每个经过验证的列表都移到已验证用户列表中\n",
    "while unconfirmed_users: \n",
    "    current_user = unconfirmed_users.pop()              #函数pop()以每次一个的方式从列表unconfirmed_users末尾删除(弹出)未验证的用户\n",
    "    print(f\"Verifying user: {current_user.title()}\") \n",
    "    confirmed_users.append(current_user) \n",
    " \n",
    "# 显示所有已验证的用户\n",
    "print(\"\\nThe following users have been confirmed:\") \n",
    "for confirmed_user in confirmed_users: \n",
    "    print(confirmed_user.title()) "
   ]
  },
  {
   "cell_type": "markdown",
   "metadata": {},
   "source": [
    "## 7.3.2 删除包含特定值的所有列表元素\n",
    "函数remove()可以删除列表中的特定值，这之所以可行，是因为要删除的值在列表中只出现了一次。如果要删除列表中所有包含特定值的元素，该怎么办呢？   \n",
    "\n",
    "宠物列表，其中包含多个值为'cat'的元素。要删除所有这些元素，可不断运行一个while循环，直到列表中不再包含值'cat'"
   ]
  },
  {
   "cell_type": "code",
   "execution_count": 26,
   "metadata": {},
   "outputs": [
    {
     "name": "stdout",
     "output_type": "stream",
     "text": [
      "['dog', 'cat', 'dog', 'goldfish', 'cat', 'rabbit', 'cat']\n",
      "['dog', 'dog', 'goldfish', 'rabbit']\n"
     ]
    }
   ],
   "source": [
    "pets = ['dog', 'cat', 'dog', 'goldfish', 'cat', 'rabbit', 'cat'] \n",
    "print(pets) \n",
    "while 'cat' in pets: \n",
    " pets.remove('cat') \n",
    " \n",
    "print(pets)"
   ]
  },
  {
   "cell_type": "markdown",
   "metadata": {},
   "source": [
    "## 7.3.3 使用用户输入来填充字典\n",
    "创建一个调查程序，其中的循环每次执行时，都提示输入被调查者的名字和回答。我们将收集的数据存储在一个字典中"
   ]
  },
  {
   "cell_type": "code",
   "execution_count": 30,
   "metadata": {},
   "outputs": [
    {
     "name": "stdout",
     "output_type": "stream",
     "text": [
      "\n",
      "What is your name? liu\n",
      "Which mountain would you like to climb someday? q\n",
      "Would you like to let another person respond? (yes/ no) no\n",
      "\n",
      "--- Poll Results ---\n",
      "liu would like to climb q.\n"
     ]
    }
   ],
   "source": [
    "responses = {} \n",
    "polling_active = True             # 设置一个标志，指出调查是否继续\n",
    "while polling_active:              # 提示输入被调查者的名字和回答\n",
    "    name = input(\"\\nWhat is your name? \") \n",
    "    response = input(\"Which mountain would you like to climb someday? \") \n",
    " \n",
    " # 将答卷存储在字典中 \n",
    "    responses[name] = response \n",
    " \n",
    " # 看看是否还有人要参与调查\n",
    "    repeat = input(\"Would you like to let another person respond? (yes/ no) \")\n",
    "    if repeat == 'no': \n",
    "        polling_active = False \n",
    " \n",
    "# 调查结束，显示结果\n",
    "print(\"\\n--- Poll Results ---\") \n",
    "for name, response in responses.items(): \n",
    "    print(name + \" would like to climb \" + response + \".\")"
   ]
  }
 ],
 "metadata": {
  "kernelspec": {
   "display_name": "Python 3",
   "language": "python",
   "name": "python3"
  },
  "language_info": {
   "codemirror_mode": {
    "name": "ipython",
    "version": 3
   },
   "file_extension": ".py",
   "mimetype": "text/x-python",
   "name": "python",
   "nbconvert_exporter": "python",
   "pygments_lexer": "ipython3",
   "version": "3.7.6"
  }
 },
 "nbformat": 4,
 "nbformat_minor": 4
}
