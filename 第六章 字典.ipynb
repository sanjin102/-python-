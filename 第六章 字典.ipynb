{
 "cells": [
  {
   "cell_type": "markdown",
   "metadata": {},
   "source": [
    "在本章中，你将学习能够将相关信息关联起来的Python字典。你将学习如何访问和修改字典中的信息   \n",
    "理解字典后，你就能够更准确地为各种真实物体建模。你可以创建一个表示人的字典，然后想在其中存储多少信息就存储多少信息：姓名、年龄、地址、职业以及要描述的任何方面。"
   ]
  },
  {
   "cell_type": "markdown",
   "metadata": {},
   "source": [
    "## 6.1 一个简单的字典\n",
    "来看一个游戏，其中包含一些外星人，这些外星人的颜色和点数各不相同。下面是一个简单的字典，存储了有关特定外星人的信息，   \n",
    "字典alien_0存储了外星人的颜色和点数"
   ]
  },
  {
   "cell_type": "code",
   "execution_count": 1,
   "metadata": {},
   "outputs": [
    {
     "name": "stdout",
     "output_type": "stream",
     "text": [
      "green\n",
      "5\n"
     ]
    }
   ],
   "source": [
    "alien_0 = {'color': 'green', 'points': 5} \n",
    "print(alien_0['color']) \n",
    "print(alien_0['points'])"
   ]
  },
  {
   "cell_type": "markdown",
   "metadata": {},
   "source": [
    "## 6.2 使用字典\n",
    "字典——{}，列表——[],元组——（）   \n",
    "字典是一系列键—值对。每个键都与一个值相关联，你可以使用键来访问与之相关联的值。   \n",
    "与键相关联的值可以是数字、字符串、列表乃至字典。   \n",
    "最简单的字典只有一个键—值对"
   ]
  },
  {
   "cell_type": "code",
   "execution_count": 2,
   "metadata": {},
   "outputs": [],
   "source": [
    "alien_0 = {'color': 'green'} "
   ]
  },
  {
   "cell_type": "markdown",
   "metadata": {},
   "source": [
    "## 6.2.1 访问字典中的值\n",
    "要获取与键相关联的值，可依次指定——字典名 + 方括号内的键"
   ]
  },
  {
   "cell_type": "code",
   "execution_count": 3,
   "metadata": {},
   "outputs": [
    {
     "name": "stdout",
     "output_type": "stream",
     "text": [
      "green\n"
     ]
    }
   ],
   "source": [
    "alien_0 = {'color': 'green'} \n",
    "print(alien_0['color']) "
   ]
  },
  {
   "cell_type": "markdown",
   "metadata": {},
   "source": [
    "从字典中获取与键'points'相关联的值，并将这个值存储在变量new_points中。接下来，将这个整数转换为字符串，并打印一条消息"
   ]
  },
  {
   "cell_type": "code",
   "execution_count": 4,
   "metadata": {},
   "outputs": [
    {
     "name": "stdout",
     "output_type": "stream",
     "text": [
      "You just earned 5 points!\n"
     ]
    }
   ],
   "source": [
    "alien_0 = {'color': 'green', 'points': 5} \n",
    "new_points = alien_0['points'] \n",
    "print(f\"You just earned {str(new_points)} points!\") "
   ]
  },
  {
   "cell_type": "markdown",
   "metadata": {},
   "source": [
    "## 6.2.2 添加键—值对\n",
    "依次指定字典名、用方括号括起的键、相关联的值，如alien_0['x_position'] = 0    \n",
    "\n",
    "下面在字典alien_0中添加两项信息：外星人的x坐标和y坐标"
   ]
  },
  {
   "cell_type": "code",
   "execution_count": 5,
   "metadata": {},
   "outputs": [
    {
     "name": "stdout",
     "output_type": "stream",
     "text": [
      "{'color': 'green', 'points': 5}\n",
      "{'color': 'green', 'points': 5, 'x_position': 0, 'y_position': 25}\n"
     ]
    }
   ],
   "source": [
    "alien_0 = {'color': 'green', 'points': 5} \n",
    "print(alien_0) \n",
    "alien_0['x_position'] = 0 \n",
    "alien_0['y_position'] = 25 \n",
    "print(alien_0) "
   ]
  },
  {
   "cell_type": "markdown",
   "metadata": {},
   "source": [
    "## 6.2.3 先创建一个空字典\n",
    "先使用一对空的{}定义一个字典，再分行添加各个键—值对。"
   ]
  },
  {
   "cell_type": "code",
   "execution_count": 6,
   "metadata": {},
   "outputs": [
    {
     "name": "stdout",
     "output_type": "stream",
     "text": [
      "{'color': 'green', 'points': 5}\n"
     ]
    }
   ],
   "source": [
    "alien_0 = {} \n",
    "alien_0['color'] = 'green' \n",
    "alien_0['points'] = 5\n",
    "print(alien_0) "
   ]
  },
  {
   "cell_type": "markdown",
   "metadata": {},
   "source": [
    "## 6.2.4 修改字典中的值\n",
    "依次指定字典名、用方括号括起的键以及与该键相关联的新值"
   ]
  },
  {
   "cell_type": "code",
   "execution_count": 7,
   "metadata": {},
   "outputs": [
    {
     "name": "stdout",
     "output_type": "stream",
     "text": [
      "green.\n",
      "yellow.\n"
     ]
    }
   ],
   "source": [
    "alien_0 = {'color': 'green'} \n",
    "print(f\"{alien_0['color']}.\") \n",
    "\n",
    "alien_0['color'] = 'yellow' \n",
    "print(f\"{alien_0['color']}.\") "
   ]
  },
  {
   "cell_type": "markdown",
   "metadata": {},
   "source": [
    "例如：对一个能够以不同速度移动的外星人的位置进行跟踪。为此，我们将存储该外星人的当前速度，并据此确定该外星人将向右移动多远"
   ]
  },
  {
   "cell_type": "code",
   "execution_count": 9,
   "metadata": {},
   "outputs": [
    {
     "name": "stdout",
     "output_type": "stream",
     "text": [
      "Original x-position: 0\n",
      "New x-position: 2\n"
     ]
    }
   ],
   "source": [
    "alien_0 = {'x_position': 0, 'y_position': 25, 'speed': 'medium'} \n",
    "print(f\"Original x-position: {str(alien_0['x_position'])}\") \n",
    "# 向右移动外星人\n",
    "# 据外星人当前速度决定将其移动多远\n",
    "if alien_0['speed'] == 'slow': \n",
    "      x_increment = 1 \n",
    "elif alien_0['speed'] == 'medium': \n",
    "      x_increment = 2 \n",
    "else: \n",
    " # 这个外星人的速度一定很快\n",
    "      x_increment = 3 \n",
    "# 新位置等于老位置加上增量\n",
    "alien_0['x_position'] = alien_0['x_position'] + x_increment #确定移动量后，将其与x_position的当前值相加,再将结果关联到字典中的键x_position\n",
    "print(f\"New x-position: {str(alien_0['x_position'])}\") "
   ]
  },
  {
   "cell_type": "markdown",
   "metadata": {},
   "source": [
    "## 6.2.5 删除键—值对\n",
    "使用del语句，必须指定字典名和要删除的键,   \n",
    "注意:删除的键—值对永远消失了。\""
   ]
  },
  {
   "cell_type": "code",
   "execution_count": 10,
   "metadata": {},
   "outputs": [
    {
     "name": "stdout",
     "output_type": "stream",
     "text": [
      "{'color': 'green', 'points': 5}\n",
      "{'color': 'green'}\n"
     ]
    }
   ],
   "source": [
    "alien_0 = {'color': 'green', 'points': 5} \n",
    "print(alien_0) \n",
    "del alien_0['points'] \n",
    "print(alien_0) "
   ]
  },
  {
   "cell_type": "markdown",
   "metadata": {},
   "source": [
    "## 6.2.6 由类似对象组成的字典\n",
    "最后一个键—值对，后面加逗号，是为了方便以后添加\n",
    "\n",
    "在前面的示例中，字典存储的是一个对象（游戏中的一个外星人）的多种信息，但你也可以使用字典来存储众多对象的同一种信息"
   ]
  },
  {
   "cell_type": "code",
   "execution_count": 13,
   "metadata": {},
   "outputs": [
    {
     "name": "stdout",
     "output_type": "stream",
     "text": [
      "{'jen': 'python', 'sarah': 'c', 'edward': 'ruby', 'phil': 'python'}\n"
     ]
    }
   ],
   "source": [
    "favorite_languages = {      \n",
    "    'jen': 'python', \n",
    "    'sarah': 'c', \n",
    "    'edward': 'ruby',\n",
    "    'phil': 'python', \n",
    " } \n",
    "print(favorite_languages)   #每个键都是一个被调查者的名字，而每个值都是被调查者喜欢的语言"
   ]
  },
  {
   "cell_type": "code",
   "execution_count": 14,
   "metadata": {},
   "outputs": [
    {
     "data": {
      "text/plain": [
       "'c'"
      ]
     },
     "execution_count": 14,
     "metadata": {},
     "output_type": "execute_result"
    }
   ],
   "source": [
    "favorite_languages['sarah'] "
   ]
  },
  {
   "cell_type": "markdown",
   "metadata": {},
   "source": [
    "## 6.3 遍历字典"
   ]
  },
  {
   "cell_type": "markdown",
   "metadata": {},
   "source": [
    "## 6.3.1 遍历所有的键—值对\n",
    "例如：for key, value in user_0.items():    \n",
    "for循环遍历字典,可声明两个变量，用于存储键—值对中的键和值。对于这两个变量，可使用任何名称。   \n",
    "for语句的第二部分包含字典名和方法items()，它返回一个键—值对列表。接下来，for循环依次将每个键—值对存储到指定的两个变量中。\n",
    "\n",
    "存储有关网站用户的信息。下面的字典存储一名用户的用户名、名和姓"
   ]
  },
  {
   "cell_type": "code",
   "execution_count": 18,
   "metadata": {},
   "outputs": [
    {
     "name": "stdout",
     "output_type": "stream",
     "text": [
      "\n",
      "Key: username\n",
      "Value: efermi\n",
      "\n",
      "Key: first\n",
      "Value: enrico\n",
      "\n",
      "Key: last\n",
      "Value: fermi\n"
     ]
    }
   ],
   "source": [
    "user_0 = { \n",
    "    'username': 'efermi', \n",
    "    'first': 'enrico', \n",
    "    'last': 'fermi', \n",
    " } \n",
    "for key, value in user_0.items(): \n",
    "    print(f\"\\nKey: {key}\") \n",
    "    print(f\"Value: {value}\") "
   ]
  },
  {
   "cell_type": "markdown",
   "metadata": {},
   "source": [
    "再例如，遍历字典favorite_languages，将得到其中每个人的姓名和喜欢的编程语言。"
   ]
  },
  {
   "cell_type": "code",
   "execution_count": 19,
   "metadata": {},
   "outputs": [
    {
     "name": "stdout",
     "output_type": "stream",
     "text": [
      "Jen's favorite language is Python .\n",
      "Sarah's favorite language is C .\n",
      "Edward's favorite language is Ruby .\n",
      "Phil's favorite language is Python .\n"
     ]
    }
   ],
   "source": [
    "favorite_languages = {\n",
    "    'jen': 'python',\n",
    "    'sarah': 'c',\n",
    "    'edward': 'ruby',\n",
    "    'phil': 'python', \n",
    " } \n",
    "for name, language in favorite_languages.items(): \n",
    "    print(f\"{name.title()}'s favorite language is {language.title()} .\") "
   ]
  },
  {
   "cell_type": "markdown",
   "metadata": {},
   "source": [
    "## 6.3.2 遍历字典中的所有键 \n",
    "例如：for name in favorite_languages.keys():    \n",
    "在遍历字典中的所有键,不需要使用字典中的值时，方法keys()很有用。key（）可以省略\n",
    "\n",
    "下面来遍历字典favorite_languages，并将每个被调查者的名字都打印出来"
   ]
  },
  {
   "cell_type": "code",
   "execution_count": 20,
   "metadata": {},
   "outputs": [
    {
     "name": "stdout",
     "output_type": "stream",
     "text": [
      "Jen\n",
      "Sarah\n",
      "Edward\n",
      "Phil\n"
     ]
    }
   ],
   "source": [
    "favorite_languages = {\n",
    "    'jen': 'python',\n",
    "    'sarah': 'c',\n",
    "    'edward': 'ruby',\n",
    "    'phil': 'python', \n",
    " }\n",
    "for name in favorite_languages.keys(): #替换为for name in favorite_languages:，输出将不变\n",
    "    print(name.title()) "
   ]
  },
  {
   "cell_type": "markdown",
   "metadata": {},
   "source": [
    "下面来打印两条消息，指出两位朋友喜欢的语言。我们像前面一样遍历字典中的名字，但在名字为指定朋友的名字时，打印一条消息，指出其喜欢的语言"
   ]
  },
  {
   "cell_type": "code",
   "execution_count": 21,
   "metadata": {},
   "outputs": [
    {
     "name": "stdout",
     "output_type": "stream",
     "text": [
      "Jen\n",
      "Sarah\n",
      " Hi Sarah, I see your favorite language is C!\n",
      "Edward\n",
      "Phil\n",
      " Hi Phil, I see your favorite language is Python!\n"
     ]
    }
   ],
   "source": [
    "favorite_languages = {\n",
    "    'jen': 'python',\n",
    "    'sarah': 'c',\n",
    "    'edward': 'ruby',\n",
    "    'phil': 'python', \n",
    " }\n",
    "friends = ['phil', 'sarah'] \n",
    "for name in favorite_languages.keys(): \n",
    "    print(name.title()) \n",
    "    \n",
    "    if name in friends: \n",
    "        print(f\" Hi {name.title()}, I see your favorite language is {favorite_languages[name].title()}!\")"
   ]
  },
  {
   "cell_type": "markdown",
   "metadata": {},
   "source": [
    "你还可以使用keys()确定某个人是否接受了调查。下面的代码确定Erin是否接受了调查,   \n",
    "方法keys()并非只能用于遍历；实际上，它返回一个列表，其中包含字典中的所有键，因此代码只是核实'erin'是否包含在这个列表中。"
   ]
  },
  {
   "cell_type": "code",
   "execution_count": 22,
   "metadata": {},
   "outputs": [
    {
     "name": "stdout",
     "output_type": "stream",
     "text": [
      "Erin, please take our poll!\n"
     ]
    }
   ],
   "source": [
    "favorite_languages = {\n",
    "    'jen': 'python',\n",
    "    'sarah': 'c',\n",
    "    'edward': 'ruby',\n",
    "    'phil': 'python', \n",
    " }\n",
    "if 'erin' not in favorite_languages.keys():\n",
    "    print(\"Erin, please take our poll!\")"
   ]
  },
  {
   "cell_type": "markdown",
   "metadata": {},
   "source": [
    "## 6.3.3 按顺序遍历字典中的所有键\n",
    "字典总是明确地记录键和值之间的关联关系，但获取字典的元素时，获取顺序是不可预测的。这不是问题，因为通常你想要的只是获取与键相关联的正确的值。\n",
    "要以特定的顺序返回元素，一种办法是在for循环中对返回的键进行排序。   \n",
    "为此，可使用函数sorted(),来获得按特定顺序排列的键列表的副本   \n",
    "让Python列出字典中的所有键，并在遍历前对这个列表进行排序"
   ]
  },
  {
   "cell_type": "code",
   "execution_count": 23,
   "metadata": {},
   "outputs": [
    {
     "name": "stdout",
     "output_type": "stream",
     "text": [
      "Edward, thank you for taking the poll.\n",
      "Jen, thank you for taking the poll.\n",
      "Phil, thank you for taking the poll.\n",
      "Sarah, thank you for taking the poll.\n"
     ]
    }
   ],
   "source": [
    "favorite_languages = {\n",
    "    'jen': 'python',\n",
    "    'sarah': 'c',\n",
    "    'edward': 'ruby',\n",
    "    'phil': 'python', \n",
    " }\n",
    "for name in sorted(favorite_languages.keys()): \n",
    "    print(f\"{name.title()}, thank you for taking the poll.\") "
   ]
  },
  {
   "cell_type": "markdown",
   "metadata": {},
   "source": [
    "## 6.3.4 遍历字典中的所有值\n",
    "例如：for language in favorite_languages.values():    \n",
    "如果你感兴趣的主要是字典包含的值，可使用方法values()，它返回一个值列表，而不包含任何键。"
   ]
  },
  {
   "cell_type": "code",
   "execution_count": 24,
   "metadata": {},
   "outputs": [
    {
     "name": "stdout",
     "output_type": "stream",
     "text": [
      "The following languages have been mentioned:\n",
      "Python\n",
      "C\n",
      "Ruby\n",
      "Python\n"
     ]
    }
   ],
   "source": [
    "favorite_languages = {\n",
    "    'jen': 'python',\n",
    "    'sarah': 'c',\n",
    "    'edward': 'ruby',\n",
    "    'phil': 'python', \n",
    " }\n",
    "print(\"The following languages have been mentioned:\") \n",
    "for language in favorite_languages.values(): \n",
    "    print(language.title()) "
   ]
  },
  {
   "cell_type": "markdown",
   "metadata": {},
   "source": [
    "这种做法提取字典中所有的值，而没有考虑是否重复。为剔除重复项，可使用集合（set）   \n",
    "可让Python找出列表中独一无二的元素，并使用这些元素来创建一个集合。"
   ]
  },
  {
   "cell_type": "code",
   "execution_count": 25,
   "metadata": {},
   "outputs": [
    {
     "name": "stdout",
     "output_type": "stream",
     "text": [
      "The following languages have been mentioned:\n",
      "C\n",
      "Python\n",
      "Ruby\n"
     ]
    }
   ],
   "source": [
    "favorite_languages = {\n",
    "    'jen': 'python',\n",
    "    'sarah': 'c',\n",
    "    'edward': 'ruby',\n",
    "    'phil': 'python', \n",
    " }\n",
    "print(\"The following languages have been mentioned:\") \n",
    "for language in set(favorite_languages.values()):      ###\n",
    "    print(language.title()) "
   ]
  },
  {
   "cell_type": "markdown",
   "metadata": {},
   "source": [
    "## 6.4 嵌套（套娃）\n",
    "有时候，需要将一系列字典存储在列表中，或将列表作为值存储在字典中，这称为嵌套。你可以在列表中嵌套字典、在字典中嵌套列表甚至在字典中嵌套字典。"
   ]
  },
  {
   "cell_type": "markdown",
   "metadata": {},
   "source": [
    "## 6.4.1 字典列表\n",
    "\n",
    "字典alien_0包含一个外星人的各种信息，但无法存储第二个外星人的信息，   \n",
    "一种办法是创建一个外星人列表，其中每个外星人都是一个字典，包含有关该外星人的各种信息。"
   ]
  },
  {
   "cell_type": "code",
   "execution_count": 30,
   "metadata": {},
   "outputs": [
    {
     "name": "stdout",
     "output_type": "stream",
     "text": [
      "{'color': 'green', 'points': 5}\n",
      "{'color': 'yellow', 'points': 10}\n",
      "{'color': 'red', 'points': 15}\n",
      "[{'color': 'green', 'points': 5}, {'color': 'yellow', 'points': 10}, {'color': 'red', 'points': 15}]\n"
     ]
    }
   ],
   "source": [
    "alien_0 = {'color': 'green', 'points': 5} \n",
    "alien_1 = {'color': 'yellow', 'points': 10} \n",
    "alien_2 = {'color': 'red', 'points': 15} \n",
    "\n",
    "aliens = [alien_0, alien_1, alien_2]            ###\n",
    "for alien in aliens: \n",
    "    print(alien)\n",
    "print(aliens)"
   ]
  },
  {
   "cell_type": "markdown",
   "metadata": {},
   "source": [
    "更符合现实的情形是，外星人不止三个，且每个外星人都是使用代码自动生成的。在下面的示例中，我们使用range()生成了30个外星人："
   ]
  },
  {
   "cell_type": "code",
   "execution_count": 33,
   "metadata": {},
   "outputs": [
    {
     "name": "stdout",
     "output_type": "stream",
     "text": [
      "{'color': 'green', 'points': 5, 'speed': 'slow'}\n",
      "{'color': 'green', 'points': 5, 'speed': 'slow'}\n",
      "{'color': 'green', 'points': 5, 'speed': 'slow'}\n",
      "{'color': 'green', 'points': 5, 'speed': 'slow'}\n",
      "{'color': 'green', 'points': 5, 'speed': 'slow'}\n",
      "...\n",
      "Total number of aliens: 30\n"
     ]
    }
   ],
   "source": [
    "# 创建一个用于存储外星人的空列表\n",
    "aliens = [] \n",
    "# 创建30个绿色的外星人\n",
    "for alien_number in range(30):              #函数range生成一系列的数，从指定的第⼀个值开始数，并在到达指定的第⼆个值后停⽌\n",
    "    new_alien = {'color': 'green', 'points': 5, 'speed': 'slow'} \n",
    "    aliens.append(new_alien) \n",
    " \n",
    "# 显示前五个外星人\n",
    "for alien in aliens[:5]: \n",
    "    print(alien) \n",
    "print(\"...\") \n",
    "# 显示创建了多少个外星人\n",
    "print(f\"Total number of aliens: {str(len(aliens))}\")"
   ]
  },
  {
   "cell_type": "markdown",
   "metadata": {},
   "source": [
    "使用for循环和if语句来修改某些外星人的颜色。例如，要将前三个外星人修改为黄色的、速度为中等且值10个点"
   ]
  },
  {
   "cell_type": "code",
   "execution_count": 34,
   "metadata": {},
   "outputs": [
    {
     "name": "stdout",
     "output_type": "stream",
     "text": [
      "{'color': 'yellow', 'points': 10, 'speed': 'medium'}\n",
      "{'color': 'yellow', 'points': 10, 'speed': 'medium'}\n",
      "{'color': 'yellow', 'points': 10, 'speed': 'medium'}\n",
      "{'color': 'green', 'points': 5, 'speed': 'slow'}\n",
      "{'color': 'green', 'points': 5, 'speed': 'slow'}\n",
      "...\n",
      "Total number of aliens: 30\n"
     ]
    }
   ],
   "source": [
    "# 创建一个用于存储外星人的空列表\n",
    "aliens = [] \n",
    "# 创建30个绿色的外星人\n",
    "for alien_number in range(30):              #函数range生成一系列的数，从指定的第⼀个值开始数，并在到达指定的第⼆个值后停⽌\n",
    "    new_alien = {'color': 'green', 'points': 5, 'speed': 'slow'} \n",
    "    aliens.append(new_alien) \n",
    "    \n",
    "for alien in aliens[0:3]:                 #鉴于我们要修改前三个外星人，需要遍历一个只包含这些外星人的切片\n",
    "    if alien['color'] == 'green':\n",
    "       alien['color'] = 'yellow' \n",
    "       alien['speed'] = 'medium' \n",
    "       alien['points'] = 10 \n",
    " \n",
    "# 显示前五个外星人\n",
    "for alien in aliens[:5]:       #遍历一个只包含这些外星人的切片\n",
    "    print(alien) \n",
    "print(\"...\") \n",
    "# 显示创建了多少个外星人\n",
    "print(f\"Total number of aliens: {str(len(aliens))}\")"
   ]
  },
  {
   "cell_type": "markdown",
   "metadata": {},
   "source": [
    "## 6.4.2 在字典中存储列表\n",
    "有时候，需要将列表存储在字典中，每当需要在字典中将一个键关联到多个值时，都可以在字典中嵌套一个列表。   \n",
    "例如，你如何描述顾客点的比萨呢？   \n",
    "如果使用列表，只能存储要添加的比萨配料；   \n",
    "但如果使用字典，就不仅可在其中包含配料列表，还可包含其他有关比萨的描述\n",
    "\n",
    "在下面的示例中，存储了比萨的两方面信息：外皮类型和配料列表。   \n",
    "其中的配料列表是一个与键'toppings'相关联的值。要访问该列表，我们使用字典名和键'toppings'，   \n",
    "就像访问字典中的其他值一样。这将返回一个配料列表，而不是单个值"
   ]
  },
  {
   "cell_type": "code",
   "execution_count": 36,
   "metadata": {},
   "outputs": [
    {
     "name": "stdout",
     "output_type": "stream",
     "text": [
      "You ordered a thick-crust pizza with the following toppings:\n",
      "\tmushrooms\n",
      "\textra cheese\n"
     ]
    }
   ],
   "source": [
    "# 存储所点比萨的信息\n",
    "pizza = { \n",
    "    'crust': 'thick', \n",
    "    'toppings': ['mushrooms', 'extra cheese'],    ###\n",
    " } \n",
    "# 概述所点的比萨\n",
    "print(f\"You ordered a {pizza['crust']}-crust pizza with the following toppings:\") \n",
    "for topping in pizza['toppings']:                    #为打印配料，我们编写了一个for循环。为访问配料列表，我们使用了键'toppings'，\n",
    "    print(f\"\\t{topping}\") "
   ]
  },
  {
   "cell_type": "code",
   "execution_count": null,
   "metadata": {},
   "outputs": [],
   "source": []
  },
  {
   "cell_type": "code",
   "execution_count": 38,
   "metadata": {},
   "outputs": [
    {
     "name": "stdout",
     "output_type": "stream",
     "text": [
      "\n",
      "Jen's favorite languages are:\n",
      "\tPython\n",
      "\tRuby\n",
      "\n",
      "Sarah's favorite languages are:\n",
      "\tC\n",
      "\n",
      "Edward's favorite languages are:\n",
      "\tRuby\n",
      "\tGo\n",
      "\n",
      "Phil's favorite languages are:\n",
      "\tPython\n",
      "\tHaskell\n"
     ]
    }
   ],
   "source": [
    "favorite_languages = {'jen': ['python', 'ruby'], \n",
    "                      'sarah': ['c'], \n",
    "                      'edward': ['ruby', 'go'], \n",
    "                      'phil': ['python', 'haskell'], \n",
    " } \n",
    "for name, languages in favorite_languages.items(): \n",
    "    print(f\"\\n{name.title()}'s favorite languages are:\") \n",
    "    for language in languages: \n",
    "        print(f\"\\t{language.title()}\")"
   ]
  },
  {
   "cell_type": "markdown",
   "metadata": {},
   "source": [
    "## 6.4.3 在字典中存储字典\n",
    "例如，如果有多个网站用户，每个都有独特的用户名，可在字典中将用户名作为键，然后将每位用户的信息存储在一个字典中，作为值。   \n",
    "\n",
    "在下面的程序中，存储了不同的用户，每个用户有不同的信息   \n",
    "对于每位用户，我们都存储了其三项信息：名、姓和居住地；   \n",
    "为访问这些信息，我们遍历所有的用户名，并访问与每个用户名相关联的信息字典"
   ]
  },
  {
   "cell_type": "code",
   "execution_count": 43,
   "metadata": {},
   "outputs": [
    {
     "name": "stdout",
     "output_type": "stream",
     "text": [
      "\n",
      "Username: aeinstein\n",
      "Albert Einstein\n",
      "\n",
      "Username: mcurie\n",
      "Marie Curie\n"
     ]
    }
   ],
   "source": [
    "users = {\n",
    "    'aeinstein': {\n",
    "        'first': 'albert', \n",
    "        'last': 'einstein', \n",
    "        'location': 'princeton',\n",
    "       }, \n",
    "    'mcurie': {\n",
    "        'first': 'marie', \n",
    "        'last': 'curie', \n",
    "        'location': 'paris', \n",
    "       }, \n",
    "} \n",
    "for username, user_info in users.items(): \n",
    "    print(f\"\\nUsername: {username}\") \n",
    "    full_name = user_info['first'] + \" \" + user_info['last'] #变量的连接\n",
    "    print(full_name.title()) "
   ]
  }
 ],
 "metadata": {
  "kernelspec": {
   "display_name": "Python 3",
   "language": "python",
   "name": "python3"
  },
  "language_info": {
   "codemirror_mode": {
    "name": "ipython",
    "version": 3
   },
   "file_extension": ".py",
   "mimetype": "text/x-python",
   "name": "python",
   "nbconvert_exporter": "python",
   "pygments_lexer": "ipython3",
   "version": "3.7.6"
  }
 },
 "nbformat": 4,
 "nbformat_minor": 4
}
